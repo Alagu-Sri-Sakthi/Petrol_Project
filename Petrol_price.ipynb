{
  "nbformat": 4,
  "nbformat_minor": 0,
  "metadata": {
    "colab": {
      "provenance": [],
      "authorship_tag": "ABX9TyOq/rIxKg5iJ4wGd9mPWoBQ",
      "include_colab_link": true
    },
    "kernelspec": {
      "name": "ir",
      "display_name": "R"
    },
    "language_info": {
      "name": "R"
    },
    "gpuClass": "standard"
  },
  "cells": [
    {
      "cell_type": "markdown",
      "metadata": {
        "id": "view-in-github",
        "colab_type": "text"
      },
      "source": [
        "<a href=\"https://colab.research.google.com/github/Alagu-Sri-Sakthi/Projects-Pg-/blob/main/Petrol_price.ipynb\" target=\"_parent\"><img src=\"https://colab.research.google.com/assets/colab-badge.svg\" alt=\"Open In Colab\"/></a>"
      ]
    },
    {
      "cell_type": "code",
      "execution_count": 7,
      "metadata": {
        "colab": {
          "base_uri": "https://localhost:8080/"
        },
        "id": "sqr3_DzicC_P",
        "outputId": "ac0b2059-2189-41f0-a4a0-997478d696cf"
      },
      "outputs": [
        {
          "output_type": "stream",
          "name": "stdout",
          "text": [
            "\f"
          ]
        }
      ],
      "source": [
        "cat(\"\\f\")\n",
        "rm(list=ls())\n"
      ]
    },
    {
      "cell_type": "code",
      "source": [
        "library(readxl)\n",
        "library(dplyr)\n",
        "library(ggplot2)\n"
      ],
      "metadata": {
        "id": "ZCeTHgnWceWd"
      },
      "execution_count": 45,
      "outputs": []
    },
    {
      "cell_type": "code",
      "source": [
        "#Importing data\n",
        "dt <- read_excel(\"/content/Mini_Project_final.xlsx\")\n"
      ],
      "metadata": {
        "id": "tkJ1igOEcn5A"
      },
      "execution_count": 9,
      "outputs": []
    },
    {
      "cell_type": "code",
      "source": [
        "data = data.frame(dt)\n"
      ],
      "metadata": {
        "id": "bDWBQiEOday_"
      },
      "execution_count": 10,
      "outputs": []
    },
    {
      "cell_type": "code",
      "source": [
        "#To see columns data types\n",
        "glimpse(data)\n"
      ],
      "metadata": {
        "colab": {
          "base_uri": "https://localhost:8080/"
        },
        "id": "EbjVlx4hdika",
        "outputId": "3033060e-982b-4211-cbd6-71236d3b77b3"
      },
      "execution_count": 11,
      "outputs": [
        {
          "output_type": "stream",
          "name": "stdout",
          "text": [
            "Rows: 110\n",
            "Columns: 7\n",
            "$ No_vechicles         \u001b[3m\u001b[90m<dbl>\u001b[39m\u001b[23m 1, 3, 3, 2, 3, 1, 2, 2, 3, 2, 1, 2, 5, 3, 2, 3, 1…\n",
            "$ Fuel_type            \u001b[3m\u001b[90m<chr>\u001b[39m\u001b[23m \"Petrol\", \"Petrol\", \"Petrol\", \"Petrol\", \"Petrol\",…\n",
            "$ vehicle_consumption  \u001b[3m\u001b[90m<dbl>\u001b[39m\u001b[23m 1, 1, 1, 1, 2, 1, 1, 2, 1, 1, 1, 1, 4, 1, 1, 1, 2…\n",
            "$ Current_petrol_price \u001b[3m\u001b[90m<chr>\u001b[39m\u001b[23m \"Not fair\", \"Not fair\", \"Not fair\", \"Not fair\", \"…\n",
            "$ Expected_price       \u001b[3m\u001b[90m<dbl>\u001b[39m\u001b[23m 70.00, 60.00, 90.00, 90.00, 89.00, 82.00, 90.00, …\n",
            "$ PP_before_10_years   \u001b[3m\u001b[90m<dbl>\u001b[39m\u001b[23m 50.00, 40.00, 55.00, 70.00, 60.00, 60.00, 40.00, …\n",
            "$ PPP_after_10.years   \u001b[3m\u001b[90m<dbl>\u001b[39m\u001b[23m 130.00, 200.00, 500.00, 500.00, 130.00, 150.00, 2…\n"
          ]
        }
      ]
    },
    {
      "cell_type": "code",
      "source": [
        "#Understanding of data\n",
        "unique(data$fuel_type)\n",
        "unique(data$current_petrol_price)\n"
      ],
      "metadata": {
        "colab": {
          "base_uri": "https://localhost:8080/",
          "height": 52
        },
        "id": "t4gCRhF6dnQV",
        "outputId": "865ffdff-686f-4db0-f40a-ccf3c376124f"
      },
      "execution_count": 12,
      "outputs": [
        {
          "output_type": "display_data",
          "data": {
            "text/plain": [
              "NULL"
            ]
          },
          "metadata": {}
        },
        {
          "output_type": "display_data",
          "data": {
            "text/plain": [
              "NULL"
            ]
          },
          "metadata": {}
        }
      ]
    },
    {
      "cell_type": "code",
      "source": [
        "#Encoding of data\n",
        "Cpp <- data$ current_petrol_price\n",
        "Ft <-  data$ fuel_type\n",
        "C <- factor(data$current_petrol_price,levels = c('Not fair','Fair'),labels = c(1,0))\n",
        "Ft <-  factor (data$fuel_type,levels = c('Petrol','Gas','Diesel','Biodiesel'),labels = c(1,2,3,4))\n"
      ],
      "metadata": {
        "id": "kQ-740P-dnbf"
      },
      "execution_count": 16,
      "outputs": []
    },
    {
      "cell_type": "code",
      "source": [
        "# Checking missing values\n",
        "is.na(data)\n"
      ],
      "metadata": {
        "colab": {
          "base_uri": "https://localhost:8080/",
          "height": 1000
        },
        "id": "m0oP5h6QdneI",
        "outputId": "4e768a07-0eaf-4c15-e07a-68250d768a6d"
      },
      "execution_count": 20,
      "outputs": [
        {
          "output_type": "display_data",
          "data": {
            "text/html": [
              "<table class=\"dataframe\">\n",
              "<caption>A matrix: 110 × 7 of type lgl</caption>\n",
              "<thead>\n",
              "\t<tr><th scope=col>No_vechicles</th><th scope=col>Fuel_type</th><th scope=col>vehicle_consumption</th><th scope=col>Current_petrol_price</th><th scope=col>Expected_price</th><th scope=col>PP_before_10_years</th><th scope=col>PPP_after_10.years</th></tr>\n",
              "</thead>\n",
              "<tbody>\n",
              "\t<tr><td>FALSE</td><td>FALSE</td><td>FALSE</td><td>FALSE</td><td>FALSE</td><td>FALSE</td><td>FALSE</td></tr>\n",
              "\t<tr><td>FALSE</td><td>FALSE</td><td>FALSE</td><td>FALSE</td><td>FALSE</td><td>FALSE</td><td>FALSE</td></tr>\n",
              "\t<tr><td>FALSE</td><td>FALSE</td><td>FALSE</td><td>FALSE</td><td>FALSE</td><td>FALSE</td><td>FALSE</td></tr>\n",
              "\t<tr><td>FALSE</td><td>FALSE</td><td>FALSE</td><td>FALSE</td><td>FALSE</td><td>FALSE</td><td>FALSE</td></tr>\n",
              "\t<tr><td>FALSE</td><td>FALSE</td><td>FALSE</td><td>FALSE</td><td>FALSE</td><td>FALSE</td><td>FALSE</td></tr>\n",
              "\t<tr><td>FALSE</td><td>FALSE</td><td>FALSE</td><td>FALSE</td><td>FALSE</td><td>FALSE</td><td>FALSE</td></tr>\n",
              "\t<tr><td>FALSE</td><td>FALSE</td><td>FALSE</td><td>FALSE</td><td>FALSE</td><td>FALSE</td><td>FALSE</td></tr>\n",
              "\t<tr><td>FALSE</td><td>FALSE</td><td>FALSE</td><td>FALSE</td><td>FALSE</td><td>FALSE</td><td>FALSE</td></tr>\n",
              "\t<tr><td>FALSE</td><td>FALSE</td><td>FALSE</td><td>FALSE</td><td>FALSE</td><td>FALSE</td><td>FALSE</td></tr>\n",
              "\t<tr><td>FALSE</td><td>FALSE</td><td>FALSE</td><td>FALSE</td><td>FALSE</td><td>FALSE</td><td>FALSE</td></tr>\n",
              "\t<tr><td>FALSE</td><td>FALSE</td><td>FALSE</td><td>FALSE</td><td>FALSE</td><td>FALSE</td><td>FALSE</td></tr>\n",
              "\t<tr><td>FALSE</td><td>FALSE</td><td>FALSE</td><td>FALSE</td><td>FALSE</td><td>FALSE</td><td>FALSE</td></tr>\n",
              "\t<tr><td>FALSE</td><td>FALSE</td><td>FALSE</td><td>FALSE</td><td>FALSE</td><td>FALSE</td><td>FALSE</td></tr>\n",
              "\t<tr><td>FALSE</td><td>FALSE</td><td>FALSE</td><td>FALSE</td><td>FALSE</td><td>FALSE</td><td>FALSE</td></tr>\n",
              "\t<tr><td>FALSE</td><td>FALSE</td><td>FALSE</td><td>FALSE</td><td>FALSE</td><td>FALSE</td><td>FALSE</td></tr>\n",
              "\t<tr><td>FALSE</td><td>FALSE</td><td>FALSE</td><td>FALSE</td><td>FALSE</td><td>FALSE</td><td>FALSE</td></tr>\n",
              "\t<tr><td>FALSE</td><td>FALSE</td><td>FALSE</td><td>FALSE</td><td>FALSE</td><td>FALSE</td><td>FALSE</td></tr>\n",
              "\t<tr><td>FALSE</td><td>FALSE</td><td>FALSE</td><td>FALSE</td><td>FALSE</td><td>FALSE</td><td>FALSE</td></tr>\n",
              "\t<tr><td>FALSE</td><td>FALSE</td><td>FALSE</td><td>FALSE</td><td>FALSE</td><td>FALSE</td><td>FALSE</td></tr>\n",
              "\t<tr><td>FALSE</td><td>FALSE</td><td>FALSE</td><td>FALSE</td><td>FALSE</td><td>FALSE</td><td>FALSE</td></tr>\n",
              "\t<tr><td>FALSE</td><td>FALSE</td><td>FALSE</td><td>FALSE</td><td>FALSE</td><td>FALSE</td><td>FALSE</td></tr>\n",
              "\t<tr><td>FALSE</td><td>FALSE</td><td>FALSE</td><td>FALSE</td><td>FALSE</td><td>FALSE</td><td>FALSE</td></tr>\n",
              "\t<tr><td>FALSE</td><td>FALSE</td><td>FALSE</td><td>FALSE</td><td> TRUE</td><td> TRUE</td><td>FALSE</td></tr>\n",
              "\t<tr><td>FALSE</td><td>FALSE</td><td>FALSE</td><td>FALSE</td><td> TRUE</td><td> TRUE</td><td>FALSE</td></tr>\n",
              "\t<tr><td>FALSE</td><td>FALSE</td><td>FALSE</td><td>FALSE</td><td>FALSE</td><td> TRUE</td><td>FALSE</td></tr>\n",
              "\t<tr><td>FALSE</td><td>FALSE</td><td>FALSE</td><td>FALSE</td><td>FALSE</td><td>FALSE</td><td>FALSE</td></tr>\n",
              "\t<tr><td>FALSE</td><td>FALSE</td><td>FALSE</td><td>FALSE</td><td>FALSE</td><td>FALSE</td><td>FALSE</td></tr>\n",
              "\t<tr><td>FALSE</td><td>FALSE</td><td>FALSE</td><td>FALSE</td><td>FALSE</td><td>FALSE</td><td>FALSE</td></tr>\n",
              "\t<tr><td>FALSE</td><td>FALSE</td><td>FALSE</td><td>FALSE</td><td>FALSE</td><td>FALSE</td><td>FALSE</td></tr>\n",
              "\t<tr><td>FALSE</td><td>FALSE</td><td>FALSE</td><td>FALSE</td><td>FALSE</td><td>FALSE</td><td>FALSE</td></tr>\n",
              "\t<tr><td>⋮</td><td>⋮</td><td>⋮</td><td>⋮</td><td>⋮</td><td>⋮</td><td>⋮</td></tr>\n",
              "\t<tr><td>FALSE</td><td>FALSE</td><td>FALSE</td><td>FALSE</td><td>FALSE</td><td>FALSE</td><td>FALSE</td></tr>\n",
              "\t<tr><td>FALSE</td><td>FALSE</td><td>FALSE</td><td>FALSE</td><td>FALSE</td><td>FALSE</td><td>FALSE</td></tr>\n",
              "\t<tr><td>FALSE</td><td>FALSE</td><td>FALSE</td><td>FALSE</td><td>FALSE</td><td>FALSE</td><td>FALSE</td></tr>\n",
              "\t<tr><td>FALSE</td><td>FALSE</td><td>FALSE</td><td>FALSE</td><td>FALSE</td><td>FALSE</td><td>FALSE</td></tr>\n",
              "\t<tr><td>FALSE</td><td>FALSE</td><td>FALSE</td><td>FALSE</td><td>FALSE</td><td>FALSE</td><td>FALSE</td></tr>\n",
              "\t<tr><td>FALSE</td><td>FALSE</td><td>FALSE</td><td>FALSE</td><td>FALSE</td><td>FALSE</td><td>FALSE</td></tr>\n",
              "\t<tr><td>FALSE</td><td>FALSE</td><td>FALSE</td><td>FALSE</td><td>FALSE</td><td>FALSE</td><td>FALSE</td></tr>\n",
              "\t<tr><td>FALSE</td><td>FALSE</td><td>FALSE</td><td>FALSE</td><td>FALSE</td><td>FALSE</td><td>FALSE</td></tr>\n",
              "\t<tr><td>FALSE</td><td>FALSE</td><td>FALSE</td><td>FALSE</td><td>FALSE</td><td>FALSE</td><td>FALSE</td></tr>\n",
              "\t<tr><td>FALSE</td><td>FALSE</td><td>FALSE</td><td>FALSE</td><td>FALSE</td><td>FALSE</td><td>FALSE</td></tr>\n",
              "\t<tr><td>FALSE</td><td>FALSE</td><td>FALSE</td><td>FALSE</td><td>FALSE</td><td>FALSE</td><td>FALSE</td></tr>\n",
              "\t<tr><td>FALSE</td><td>FALSE</td><td>FALSE</td><td>FALSE</td><td>FALSE</td><td>FALSE</td><td>FALSE</td></tr>\n",
              "\t<tr><td>FALSE</td><td>FALSE</td><td>FALSE</td><td>FALSE</td><td>FALSE</td><td>FALSE</td><td>FALSE</td></tr>\n",
              "\t<tr><td>FALSE</td><td>FALSE</td><td>FALSE</td><td>FALSE</td><td>FALSE</td><td>FALSE</td><td>FALSE</td></tr>\n",
              "\t<tr><td>FALSE</td><td>FALSE</td><td>FALSE</td><td>FALSE</td><td>FALSE</td><td>FALSE</td><td>FALSE</td></tr>\n",
              "\t<tr><td>FALSE</td><td>FALSE</td><td>FALSE</td><td>FALSE</td><td>FALSE</td><td>FALSE</td><td>FALSE</td></tr>\n",
              "\t<tr><td>FALSE</td><td>FALSE</td><td>FALSE</td><td>FALSE</td><td>FALSE</td><td>FALSE</td><td>FALSE</td></tr>\n",
              "\t<tr><td>FALSE</td><td>FALSE</td><td>FALSE</td><td>FALSE</td><td>FALSE</td><td>FALSE</td><td>FALSE</td></tr>\n",
              "\t<tr><td>FALSE</td><td>FALSE</td><td>FALSE</td><td>FALSE</td><td>FALSE</td><td>FALSE</td><td>FALSE</td></tr>\n",
              "\t<tr><td>FALSE</td><td>FALSE</td><td>FALSE</td><td>FALSE</td><td>FALSE</td><td>FALSE</td><td>FALSE</td></tr>\n",
              "\t<tr><td>FALSE</td><td>FALSE</td><td>FALSE</td><td>FALSE</td><td>FALSE</td><td>FALSE</td><td>FALSE</td></tr>\n",
              "\t<tr><td>FALSE</td><td>FALSE</td><td>FALSE</td><td>FALSE</td><td>FALSE</td><td>FALSE</td><td>FALSE</td></tr>\n",
              "\t<tr><td>FALSE</td><td>FALSE</td><td>FALSE</td><td>FALSE</td><td>FALSE</td><td>FALSE</td><td>FALSE</td></tr>\n",
              "\t<tr><td>FALSE</td><td>FALSE</td><td>FALSE</td><td>FALSE</td><td>FALSE</td><td>FALSE</td><td>FALSE</td></tr>\n",
              "\t<tr><td>FALSE</td><td>FALSE</td><td>FALSE</td><td>FALSE</td><td>FALSE</td><td>FALSE</td><td>FALSE</td></tr>\n",
              "\t<tr><td>FALSE</td><td>FALSE</td><td>FALSE</td><td>FALSE</td><td>FALSE</td><td>FALSE</td><td>FALSE</td></tr>\n",
              "\t<tr><td>FALSE</td><td>FALSE</td><td>FALSE</td><td>FALSE</td><td>FALSE</td><td> TRUE</td><td>FALSE</td></tr>\n",
              "\t<tr><td>FALSE</td><td>FALSE</td><td>FALSE</td><td>FALSE</td><td>FALSE</td><td>FALSE</td><td>FALSE</td></tr>\n",
              "\t<tr><td>FALSE</td><td>FALSE</td><td>FALSE</td><td>FALSE</td><td>FALSE</td><td>FALSE</td><td>FALSE</td></tr>\n",
              "\t<tr><td>FALSE</td><td>FALSE</td><td>FALSE</td><td>FALSE</td><td>FALSE</td><td>FALSE</td><td>FALSE</td></tr>\n",
              "</tbody>\n",
              "</table>\n"
            ],
            "text/markdown": "\nA matrix: 110 × 7 of type lgl\n\n| No_vechicles | Fuel_type | vehicle_consumption | Current_petrol_price | Expected_price | PP_before_10_years | PPP_after_10.years |\n|---|---|---|---|---|---|---|\n| FALSE | FALSE | FALSE | FALSE | FALSE | FALSE | FALSE |\n| FALSE | FALSE | FALSE | FALSE | FALSE | FALSE | FALSE |\n| FALSE | FALSE | FALSE | FALSE | FALSE | FALSE | FALSE |\n| FALSE | FALSE | FALSE | FALSE | FALSE | FALSE | FALSE |\n| FALSE | FALSE | FALSE | FALSE | FALSE | FALSE | FALSE |\n| FALSE | FALSE | FALSE | FALSE | FALSE | FALSE | FALSE |\n| FALSE | FALSE | FALSE | FALSE | FALSE | FALSE | FALSE |\n| FALSE | FALSE | FALSE | FALSE | FALSE | FALSE | FALSE |\n| FALSE | FALSE | FALSE | FALSE | FALSE | FALSE | FALSE |\n| FALSE | FALSE | FALSE | FALSE | FALSE | FALSE | FALSE |\n| FALSE | FALSE | FALSE | FALSE | FALSE | FALSE | FALSE |\n| FALSE | FALSE | FALSE | FALSE | FALSE | FALSE | FALSE |\n| FALSE | FALSE | FALSE | FALSE | FALSE | FALSE | FALSE |\n| FALSE | FALSE | FALSE | FALSE | FALSE | FALSE | FALSE |\n| FALSE | FALSE | FALSE | FALSE | FALSE | FALSE | FALSE |\n| FALSE | FALSE | FALSE | FALSE | FALSE | FALSE | FALSE |\n| FALSE | FALSE | FALSE | FALSE | FALSE | FALSE | FALSE |\n| FALSE | FALSE | FALSE | FALSE | FALSE | FALSE | FALSE |\n| FALSE | FALSE | FALSE | FALSE | FALSE | FALSE | FALSE |\n| FALSE | FALSE | FALSE | FALSE | FALSE | FALSE | FALSE |\n| FALSE | FALSE | FALSE | FALSE | FALSE | FALSE | FALSE |\n| FALSE | FALSE | FALSE | FALSE | FALSE | FALSE | FALSE |\n| FALSE | FALSE | FALSE | FALSE |  TRUE |  TRUE | FALSE |\n| FALSE | FALSE | FALSE | FALSE |  TRUE |  TRUE | FALSE |\n| FALSE | FALSE | FALSE | FALSE | FALSE |  TRUE | FALSE |\n| FALSE | FALSE | FALSE | FALSE | FALSE | FALSE | FALSE |\n| FALSE | FALSE | FALSE | FALSE | FALSE | FALSE | FALSE |\n| FALSE | FALSE | FALSE | FALSE | FALSE | FALSE | FALSE |\n| FALSE | FALSE | FALSE | FALSE | FALSE | FALSE | FALSE |\n| FALSE | FALSE | FALSE | FALSE | FALSE | FALSE | FALSE |\n| ⋮ | ⋮ | ⋮ | ⋮ | ⋮ | ⋮ | ⋮ |\n| FALSE | FALSE | FALSE | FALSE | FALSE | FALSE | FALSE |\n| FALSE | FALSE | FALSE | FALSE | FALSE | FALSE | FALSE |\n| FALSE | FALSE | FALSE | FALSE | FALSE | FALSE | FALSE |\n| FALSE | FALSE | FALSE | FALSE | FALSE | FALSE | FALSE |\n| FALSE | FALSE | FALSE | FALSE | FALSE | FALSE | FALSE |\n| FALSE | FALSE | FALSE | FALSE | FALSE | FALSE | FALSE |\n| FALSE | FALSE | FALSE | FALSE | FALSE | FALSE | FALSE |\n| FALSE | FALSE | FALSE | FALSE | FALSE | FALSE | FALSE |\n| FALSE | FALSE | FALSE | FALSE | FALSE | FALSE | FALSE |\n| FALSE | FALSE | FALSE | FALSE | FALSE | FALSE | FALSE |\n| FALSE | FALSE | FALSE | FALSE | FALSE | FALSE | FALSE |\n| FALSE | FALSE | FALSE | FALSE | FALSE | FALSE | FALSE |\n| FALSE | FALSE | FALSE | FALSE | FALSE | FALSE | FALSE |\n| FALSE | FALSE | FALSE | FALSE | FALSE | FALSE | FALSE |\n| FALSE | FALSE | FALSE | FALSE | FALSE | FALSE | FALSE |\n| FALSE | FALSE | FALSE | FALSE | FALSE | FALSE | FALSE |\n| FALSE | FALSE | FALSE | FALSE | FALSE | FALSE | FALSE |\n| FALSE | FALSE | FALSE | FALSE | FALSE | FALSE | FALSE |\n| FALSE | FALSE | FALSE | FALSE | FALSE | FALSE | FALSE |\n| FALSE | FALSE | FALSE | FALSE | FALSE | FALSE | FALSE |\n| FALSE | FALSE | FALSE | FALSE | FALSE | FALSE | FALSE |\n| FALSE | FALSE | FALSE | FALSE | FALSE | FALSE | FALSE |\n| FALSE | FALSE | FALSE | FALSE | FALSE | FALSE | FALSE |\n| FALSE | FALSE | FALSE | FALSE | FALSE | FALSE | FALSE |\n| FALSE | FALSE | FALSE | FALSE | FALSE | FALSE | FALSE |\n| FALSE | FALSE | FALSE | FALSE | FALSE | FALSE | FALSE |\n| FALSE | FALSE | FALSE | FALSE | FALSE |  TRUE | FALSE |\n| FALSE | FALSE | FALSE | FALSE | FALSE | FALSE | FALSE |\n| FALSE | FALSE | FALSE | FALSE | FALSE | FALSE | FALSE |\n| FALSE | FALSE | FALSE | FALSE | FALSE | FALSE | FALSE |\n\n",
            "text/latex": "A matrix: 110 × 7 of type lgl\n\\begin{tabular}{lllllll}\n No\\_vechicles & Fuel\\_type & vehicle\\_consumption & Current\\_petrol\\_price & Expected\\_price & PP\\_before\\_10\\_years & PPP\\_after\\_10.years\\\\\n\\hline\n\t FALSE & FALSE & FALSE & FALSE & FALSE & FALSE & FALSE\\\\\n\t FALSE & FALSE & FALSE & FALSE & FALSE & FALSE & FALSE\\\\\n\t FALSE & FALSE & FALSE & FALSE & FALSE & FALSE & FALSE\\\\\n\t FALSE & FALSE & FALSE & FALSE & FALSE & FALSE & FALSE\\\\\n\t FALSE & FALSE & FALSE & FALSE & FALSE & FALSE & FALSE\\\\\n\t FALSE & FALSE & FALSE & FALSE & FALSE & FALSE & FALSE\\\\\n\t FALSE & FALSE & FALSE & FALSE & FALSE & FALSE & FALSE\\\\\n\t FALSE & FALSE & FALSE & FALSE & FALSE & FALSE & FALSE\\\\\n\t FALSE & FALSE & FALSE & FALSE & FALSE & FALSE & FALSE\\\\\n\t FALSE & FALSE & FALSE & FALSE & FALSE & FALSE & FALSE\\\\\n\t FALSE & FALSE & FALSE & FALSE & FALSE & FALSE & FALSE\\\\\n\t FALSE & FALSE & FALSE & FALSE & FALSE & FALSE & FALSE\\\\\n\t FALSE & FALSE & FALSE & FALSE & FALSE & FALSE & FALSE\\\\\n\t FALSE & FALSE & FALSE & FALSE & FALSE & FALSE & FALSE\\\\\n\t FALSE & FALSE & FALSE & FALSE & FALSE & FALSE & FALSE\\\\\n\t FALSE & FALSE & FALSE & FALSE & FALSE & FALSE & FALSE\\\\\n\t FALSE & FALSE & FALSE & FALSE & FALSE & FALSE & FALSE\\\\\n\t FALSE & FALSE & FALSE & FALSE & FALSE & FALSE & FALSE\\\\\n\t FALSE & FALSE & FALSE & FALSE & FALSE & FALSE & FALSE\\\\\n\t FALSE & FALSE & FALSE & FALSE & FALSE & FALSE & FALSE\\\\\n\t FALSE & FALSE & FALSE & FALSE & FALSE & FALSE & FALSE\\\\\n\t FALSE & FALSE & FALSE & FALSE & FALSE & FALSE & FALSE\\\\\n\t FALSE & FALSE & FALSE & FALSE &  TRUE &  TRUE & FALSE\\\\\n\t FALSE & FALSE & FALSE & FALSE &  TRUE &  TRUE & FALSE\\\\\n\t FALSE & FALSE & FALSE & FALSE & FALSE &  TRUE & FALSE\\\\\n\t FALSE & FALSE & FALSE & FALSE & FALSE & FALSE & FALSE\\\\\n\t FALSE & FALSE & FALSE & FALSE & FALSE & FALSE & FALSE\\\\\n\t FALSE & FALSE & FALSE & FALSE & FALSE & FALSE & FALSE\\\\\n\t FALSE & FALSE & FALSE & FALSE & FALSE & FALSE & FALSE\\\\\n\t FALSE & FALSE & FALSE & FALSE & FALSE & FALSE & FALSE\\\\\n\t ⋮ & ⋮ & ⋮ & ⋮ & ⋮ & ⋮ & ⋮\\\\\n\t FALSE & FALSE & FALSE & FALSE & FALSE & FALSE & FALSE\\\\\n\t FALSE & FALSE & FALSE & FALSE & FALSE & FALSE & FALSE\\\\\n\t FALSE & FALSE & FALSE & FALSE & FALSE & FALSE & FALSE\\\\\n\t FALSE & FALSE & FALSE & FALSE & FALSE & FALSE & FALSE\\\\\n\t FALSE & FALSE & FALSE & FALSE & FALSE & FALSE & FALSE\\\\\n\t FALSE & FALSE & FALSE & FALSE & FALSE & FALSE & FALSE\\\\\n\t FALSE & FALSE & FALSE & FALSE & FALSE & FALSE & FALSE\\\\\n\t FALSE & FALSE & FALSE & FALSE & FALSE & FALSE & FALSE\\\\\n\t FALSE & FALSE & FALSE & FALSE & FALSE & FALSE & FALSE\\\\\n\t FALSE & FALSE & FALSE & FALSE & FALSE & FALSE & FALSE\\\\\n\t FALSE & FALSE & FALSE & FALSE & FALSE & FALSE & FALSE\\\\\n\t FALSE & FALSE & FALSE & FALSE & FALSE & FALSE & FALSE\\\\\n\t FALSE & FALSE & FALSE & FALSE & FALSE & FALSE & FALSE\\\\\n\t FALSE & FALSE & FALSE & FALSE & FALSE & FALSE & FALSE\\\\\n\t FALSE & FALSE & FALSE & FALSE & FALSE & FALSE & FALSE\\\\\n\t FALSE & FALSE & FALSE & FALSE & FALSE & FALSE & FALSE\\\\\n\t FALSE & FALSE & FALSE & FALSE & FALSE & FALSE & FALSE\\\\\n\t FALSE & FALSE & FALSE & FALSE & FALSE & FALSE & FALSE\\\\\n\t FALSE & FALSE & FALSE & FALSE & FALSE & FALSE & FALSE\\\\\n\t FALSE & FALSE & FALSE & FALSE & FALSE & FALSE & FALSE\\\\\n\t FALSE & FALSE & FALSE & FALSE & FALSE & FALSE & FALSE\\\\\n\t FALSE & FALSE & FALSE & FALSE & FALSE & FALSE & FALSE\\\\\n\t FALSE & FALSE & FALSE & FALSE & FALSE & FALSE & FALSE\\\\\n\t FALSE & FALSE & FALSE & FALSE & FALSE & FALSE & FALSE\\\\\n\t FALSE & FALSE & FALSE & FALSE & FALSE & FALSE & FALSE\\\\\n\t FALSE & FALSE & FALSE & FALSE & FALSE & FALSE & FALSE\\\\\n\t FALSE & FALSE & FALSE & FALSE & FALSE &  TRUE & FALSE\\\\\n\t FALSE & FALSE & FALSE & FALSE & FALSE & FALSE & FALSE\\\\\n\t FALSE & FALSE & FALSE & FALSE & FALSE & FALSE & FALSE\\\\\n\t FALSE & FALSE & FALSE & FALSE & FALSE & FALSE & FALSE\\\\\n\\end{tabular}\n",
            "text/plain": [
              "      No_vechicles Fuel_type vehicle_consumption Current_petrol_price\n",
              " [1,] FALSE        FALSE     FALSE               FALSE               \n",
              " [2,] FALSE        FALSE     FALSE               FALSE               \n",
              " [3,] FALSE        FALSE     FALSE               FALSE               \n",
              " [4,] FALSE        FALSE     FALSE               FALSE               \n",
              " [5,] FALSE        FALSE     FALSE               FALSE               \n",
              " [6,] FALSE        FALSE     FALSE               FALSE               \n",
              " [7,] FALSE        FALSE     FALSE               FALSE               \n",
              " [8,] FALSE        FALSE     FALSE               FALSE               \n",
              " [9,] FALSE        FALSE     FALSE               FALSE               \n",
              "[10,] FALSE        FALSE     FALSE               FALSE               \n",
              "[11,] FALSE        FALSE     FALSE               FALSE               \n",
              "[12,] FALSE        FALSE     FALSE               FALSE               \n",
              "[13,] FALSE        FALSE     FALSE               FALSE               \n",
              "[14,] FALSE        FALSE     FALSE               FALSE               \n",
              "[15,] FALSE        FALSE     FALSE               FALSE               \n",
              "[16,] FALSE        FALSE     FALSE               FALSE               \n",
              "[17,] FALSE        FALSE     FALSE               FALSE               \n",
              "[18,] FALSE        FALSE     FALSE               FALSE               \n",
              "[19,] FALSE        FALSE     FALSE               FALSE               \n",
              "[20,] FALSE        FALSE     FALSE               FALSE               \n",
              "[21,] FALSE        FALSE     FALSE               FALSE               \n",
              "[22,] FALSE        FALSE     FALSE               FALSE               \n",
              "[23,] FALSE        FALSE     FALSE               FALSE               \n",
              "[24,] FALSE        FALSE     FALSE               FALSE               \n",
              "[25,] FALSE        FALSE     FALSE               FALSE               \n",
              "[26,] FALSE        FALSE     FALSE               FALSE               \n",
              "[27,] FALSE        FALSE     FALSE               FALSE               \n",
              "[28,] FALSE        FALSE     FALSE               FALSE               \n",
              "[29,] FALSE        FALSE     FALSE               FALSE               \n",
              "[30,] FALSE        FALSE     FALSE               FALSE               \n",
              "[31,] ⋮            ⋮         ⋮                   ⋮                   \n",
              "[32,] FALSE        FALSE     FALSE               FALSE               \n",
              "[33,] FALSE        FALSE     FALSE               FALSE               \n",
              "[34,] FALSE        FALSE     FALSE               FALSE               \n",
              "[35,] FALSE        FALSE     FALSE               FALSE               \n",
              "[36,] FALSE        FALSE     FALSE               FALSE               \n",
              "[37,] FALSE        FALSE     FALSE               FALSE               \n",
              "[38,] FALSE        FALSE     FALSE               FALSE               \n",
              "[39,] FALSE        FALSE     FALSE               FALSE               \n",
              "[40,] FALSE        FALSE     FALSE               FALSE               \n",
              "[41,] FALSE        FALSE     FALSE               FALSE               \n",
              "[42,] FALSE        FALSE     FALSE               FALSE               \n",
              "[43,] FALSE        FALSE     FALSE               FALSE               \n",
              "[44,] FALSE        FALSE     FALSE               FALSE               \n",
              "[45,] FALSE        FALSE     FALSE               FALSE               \n",
              "[46,] FALSE        FALSE     FALSE               FALSE               \n",
              "[47,] FALSE        FALSE     FALSE               FALSE               \n",
              "[48,] FALSE        FALSE     FALSE               FALSE               \n",
              "[49,] FALSE        FALSE     FALSE               FALSE               \n",
              "[50,] FALSE        FALSE     FALSE               FALSE               \n",
              "[51,] FALSE        FALSE     FALSE               FALSE               \n",
              "[52,] FALSE        FALSE     FALSE               FALSE               \n",
              "[53,] FALSE        FALSE     FALSE               FALSE               \n",
              "[54,] FALSE        FALSE     FALSE               FALSE               \n",
              "[55,] FALSE        FALSE     FALSE               FALSE               \n",
              "[56,] FALSE        FALSE     FALSE               FALSE               \n",
              "[57,] FALSE        FALSE     FALSE               FALSE               \n",
              "[58,] FALSE        FALSE     FALSE               FALSE               \n",
              "[59,] FALSE        FALSE     FALSE               FALSE               \n",
              "[60,] FALSE        FALSE     FALSE               FALSE               \n",
              "[61,] FALSE        FALSE     FALSE               FALSE               \n",
              "      Expected_price PP_before_10_years PPP_after_10.years\n",
              " [1,] FALSE          FALSE              FALSE             \n",
              " [2,] FALSE          FALSE              FALSE             \n",
              " [3,] FALSE          FALSE              FALSE             \n",
              " [4,] FALSE          FALSE              FALSE             \n",
              " [5,] FALSE          FALSE              FALSE             \n",
              " [6,] FALSE          FALSE              FALSE             \n",
              " [7,] FALSE          FALSE              FALSE             \n",
              " [8,] FALSE          FALSE              FALSE             \n",
              " [9,] FALSE          FALSE              FALSE             \n",
              "[10,] FALSE          FALSE              FALSE             \n",
              "[11,] FALSE          FALSE              FALSE             \n",
              "[12,] FALSE          FALSE              FALSE             \n",
              "[13,] FALSE          FALSE              FALSE             \n",
              "[14,] FALSE          FALSE              FALSE             \n",
              "[15,] FALSE          FALSE              FALSE             \n",
              "[16,] FALSE          FALSE              FALSE             \n",
              "[17,] FALSE          FALSE              FALSE             \n",
              "[18,] FALSE          FALSE              FALSE             \n",
              "[19,] FALSE          FALSE              FALSE             \n",
              "[20,] FALSE          FALSE              FALSE             \n",
              "[21,] FALSE          FALSE              FALSE             \n",
              "[22,] FALSE          FALSE              FALSE             \n",
              "[23,]  TRUE           TRUE              FALSE             \n",
              "[24,]  TRUE           TRUE              FALSE             \n",
              "[25,] FALSE           TRUE              FALSE             \n",
              "[26,] FALSE          FALSE              FALSE             \n",
              "[27,] FALSE          FALSE              FALSE             \n",
              "[28,] FALSE          FALSE              FALSE             \n",
              "[29,] FALSE          FALSE              FALSE             \n",
              "[30,] FALSE          FALSE              FALSE             \n",
              "[31,] ⋮              ⋮                  ⋮                 \n",
              "[32,] FALSE          FALSE              FALSE             \n",
              "[33,] FALSE          FALSE              FALSE             \n",
              "[34,] FALSE          FALSE              FALSE             \n",
              "[35,] FALSE          FALSE              FALSE             \n",
              "[36,] FALSE          FALSE              FALSE             \n",
              "[37,] FALSE          FALSE              FALSE             \n",
              "[38,] FALSE          FALSE              FALSE             \n",
              "[39,] FALSE          FALSE              FALSE             \n",
              "[40,] FALSE          FALSE              FALSE             \n",
              "[41,] FALSE          FALSE              FALSE             \n",
              "[42,] FALSE          FALSE              FALSE             \n",
              "[43,] FALSE          FALSE              FALSE             \n",
              "[44,] FALSE          FALSE              FALSE             \n",
              "[45,] FALSE          FALSE              FALSE             \n",
              "[46,] FALSE          FALSE              FALSE             \n",
              "[47,] FALSE          FALSE              FALSE             \n",
              "[48,] FALSE          FALSE              FALSE             \n",
              "[49,] FALSE          FALSE              FALSE             \n",
              "[50,] FALSE          FALSE              FALSE             \n",
              "[51,] FALSE          FALSE              FALSE             \n",
              "[52,] FALSE          FALSE              FALSE             \n",
              "[53,] FALSE          FALSE              FALSE             \n",
              "[54,] FALSE          FALSE              FALSE             \n",
              "[55,] FALSE          FALSE              FALSE             \n",
              "[56,] FALSE          FALSE              FALSE             \n",
              "[57,] FALSE          FALSE              FALSE             \n",
              "[58,] FALSE           TRUE              FALSE             \n",
              "[59,] FALSE          FALSE              FALSE             \n",
              "[60,] FALSE          FALSE              FALSE             \n",
              "[61,] FALSE          FALSE              FALSE             "
            ]
          },
          "metadata": {}
        }
      ]
    },
    {
      "cell_type": "code",
      "source": [
        "#Total missing values\n",
        "print(paste(\"Total missing values:\",sum(is.na(data))))\n"
      ],
      "metadata": {
        "colab": {
          "base_uri": "https://localhost:8080/"
        },
        "id": "Cz4zAibhdng8",
        "outputId": "e51d4702-2f40-41bc-bd2f-17270c844e49"
      },
      "execution_count": 22,
      "outputs": [
        {
          "output_type": "stream",
          "name": "stdout",
          "text": [
            "[1] \"Total missing values: 8\"\n"
          ]
        }
      ]
    },
    {
      "cell_type": "code",
      "source": [
        "# Mean imputation\n",
        "for(i in 7:ncol(data)){data[is.na(data[,7]),7]<-mean(data[,7],na.rm = TRUE)}\n",
        "data\n",
        "#Mean of PPP_After_10 = 433.7026\n"
      ],
      "metadata": {
        "colab": {
          "base_uri": "https://localhost:8080/",
          "height": 1000
        },
        "id": "zt9bmJ8kdnjx",
        "outputId": "602ac9d9-728b-403d-b7f5-e8fcaa6878ac"
      },
      "execution_count": 25,
      "outputs": [
        {
          "output_type": "display_data",
          "data": {
            "text/html": [
              "<table class=\"dataframe\">\n",
              "<caption>A data.frame: 110 × 7</caption>\n",
              "<thead>\n",
              "\t<tr><th scope=col>No_vechicles</th><th scope=col>Fuel_type</th><th scope=col>vehicle_consumption</th><th scope=col>Current_petrol_price</th><th scope=col>Expected_price</th><th scope=col>PP_before_10_years</th><th scope=col>PPP_after_10.years</th></tr>\n",
              "\t<tr><th scope=col>&lt;dbl&gt;</th><th scope=col>&lt;chr&gt;</th><th scope=col>&lt;dbl&gt;</th><th scope=col>&lt;chr&gt;</th><th scope=col>&lt;dbl&gt;</th><th scope=col>&lt;dbl&gt;</th><th scope=col>&lt;dbl&gt;</th></tr>\n",
              "</thead>\n",
              "<tbody>\n",
              "\t<tr><td>1</td><td>Petrol</td><td>1</td><td>Not fair</td><td> 70.00</td><td> 50.00</td><td> 130.0000</td></tr>\n",
              "\t<tr><td>3</td><td>Petrol</td><td>1</td><td>Not fair</td><td> 60.00</td><td> 40.00</td><td> 200.0000</td></tr>\n",
              "\t<tr><td>3</td><td>Petrol</td><td>1</td><td>Not fair</td><td> 90.00</td><td> 55.00</td><td> 500.0000</td></tr>\n",
              "\t<tr><td>2</td><td>Petrol</td><td>1</td><td>Not fair</td><td> 90.00</td><td> 70.00</td><td> 500.0000</td></tr>\n",
              "\t<tr><td>3</td><td>Petrol</td><td>2</td><td>Not fair</td><td> 89.00</td><td> 60.00</td><td> 130.0000</td></tr>\n",
              "\t<tr><td>1</td><td>Petrol</td><td>1</td><td>Not fair</td><td> 82.00</td><td> 60.00</td><td> 150.0000</td></tr>\n",
              "\t<tr><td>2</td><td>Petrol</td><td>1</td><td>Fair    </td><td> 90.00</td><td> 40.00</td><td> 200.0000</td></tr>\n",
              "\t<tr><td>2</td><td>Petrol</td><td>2</td><td>Not fair</td><td> 50.00</td><td> 50.00</td><td>1000.0000</td></tr>\n",
              "\t<tr><td>3</td><td>Petrol</td><td>1</td><td>Not fair</td><td> 80.00</td><td> 48.00</td><td> 130.0000</td></tr>\n",
              "\t<tr><td>2</td><td>Petrol</td><td>1</td><td>Not fair</td><td> 80.00</td><td> 50.00</td><td> 200.0000</td></tr>\n",
              "\t<tr><td>1</td><td>Petrol</td><td>1</td><td>Not fair</td><td> 75.00</td><td> 40.00</td><td> 200.0000</td></tr>\n",
              "\t<tr><td>2</td><td>Petrol</td><td>1</td><td>Not fair</td><td> 71.03</td><td> 50.52</td><td> 485.3900</td></tr>\n",
              "\t<tr><td>5</td><td>Petrol</td><td>4</td><td>Fair    </td><td> 90.00</td><td> 64.00</td><td> 150.0000</td></tr>\n",
              "\t<tr><td>3</td><td>Petrol</td><td>1</td><td>Not fair</td><td> 85.00</td><td> 65.00</td><td> 250.0000</td></tr>\n",
              "\t<tr><td>2</td><td>Petrol</td><td>1</td><td>Not fair</td><td> 80.00</td><td> 60.00</td><td> 500.0000</td></tr>\n",
              "\t<tr><td>3</td><td>Petrol</td><td>1</td><td>Not fair</td><td> 45.00</td><td> 60.00</td><td> 200.0000</td></tr>\n",
              "\t<tr><td>1</td><td>Gas   </td><td>2</td><td>Not fair</td><td> 85.00</td><td> 60.00</td><td> 433.7026</td></tr>\n",
              "\t<tr><td>2</td><td>Petrol</td><td>1</td><td>Not fair</td><td> 80.00</td><td> 40.00</td><td> 200.0000</td></tr>\n",
              "\t<tr><td>1</td><td>Petrol</td><td>1</td><td>Not fair</td><td> 70.00</td><td> 50.00</td><td> 200.0000</td></tr>\n",
              "\t<tr><td>1</td><td>Petrol</td><td>1</td><td>Not fair</td><td> 60.00</td><td> 40.00</td><td> 433.7026</td></tr>\n",
              "\t<tr><td>2</td><td>Petrol</td><td>1</td><td>Fair    </td><td>101.00</td><td> 43.00</td><td> 300.0000</td></tr>\n",
              "\t<tr><td>1</td><td>Petrol</td><td>1</td><td>Not fair</td><td> 80.00</td><td> 63.00</td><td> 250.0000</td></tr>\n",
              "\t<tr><td>3</td><td>Diesel</td><td>3</td><td>Fair    </td><td>    NA</td><td>    NA</td><td> 433.7026</td></tr>\n",
              "\t<tr><td>2</td><td>Petrol</td><td>1</td><td>Not fair</td><td>    NA</td><td>    NA</td><td> 433.7026</td></tr>\n",
              "\t<tr><td>2</td><td>Petrol</td><td>2</td><td>Not fair</td><td> 80.00</td><td>    NA</td><td> 200.0000</td></tr>\n",
              "\t<tr><td>2</td><td>Petrol</td><td>1</td><td>Not fair</td><td> 70.00</td><td> 50.00</td><td>1000.0000</td></tr>\n",
              "\t<tr><td>2</td><td>Petrol</td><td>2</td><td>Not fair</td><td> 80.00</td><td> 60.00</td><td> 200.0000</td></tr>\n",
              "\t<tr><td>1</td><td>Petrol</td><td>1</td><td>Not fair</td><td> 80.00</td><td>200.00</td><td> 200.0000</td></tr>\n",
              "\t<tr><td>1</td><td>Petrol</td><td>1</td><td>Not fair</td><td> 85.00</td><td> 65.00</td><td> 170.0000</td></tr>\n",
              "\t<tr><td>3</td><td>Petrol</td><td>4</td><td>Not fair</td><td> 90.00</td><td> 75.00</td><td> 150.0000</td></tr>\n",
              "\t<tr><td>⋮</td><td>⋮</td><td>⋮</td><td>⋮</td><td>⋮</td><td>⋮</td><td>⋮</td></tr>\n",
              "\t<tr><td>2</td><td>Petrol   </td><td>5</td><td>Not fair</td><td> 78.0</td><td>54.00</td><td> 238.9000</td></tr>\n",
              "\t<tr><td>2</td><td>Diesel   </td><td>4</td><td>Not fair</td><td> 78.0</td><td>61.31</td><td> 299.5900</td></tr>\n",
              "\t<tr><td>1</td><td>Petrol   </td><td>1</td><td>Not fair</td><td> 58.9</td><td>54.20</td><td> 234.5000</td></tr>\n",
              "\t<tr><td>3</td><td>Petrol   </td><td>4</td><td>Fair    </td><td>101.0</td><td>69.60</td><td>1200.3400</td></tr>\n",
              "\t<tr><td>5</td><td>Biodiesel</td><td>5</td><td>Fair    </td><td>101.0</td><td>70.00</td><td>2500.0000</td></tr>\n",
              "\t<tr><td>1</td><td>Petrol   </td><td>3</td><td>Fair    </td><td>103.0</td><td>61.00</td><td>1700.0000</td></tr>\n",
              "\t<tr><td>2</td><td>Biodiesel</td><td>4</td><td>Fair    </td><td>103.0</td><td>79.00</td><td>1200.0000</td></tr>\n",
              "\t<tr><td>2</td><td>Diesel   </td><td>2</td><td>Fair    </td><td>103.0</td><td>67.80</td><td>1345.6000</td></tr>\n",
              "\t<tr><td>1</td><td>Petrol   </td><td>1</td><td>Not fair</td><td> 78.9</td><td>67.80</td><td> 567.8000</td></tr>\n",
              "\t<tr><td>1</td><td>Petrol   </td><td>1</td><td>Fair    </td><td>103.0</td><td>68.00</td><td> 890.0000</td></tr>\n",
              "\t<tr><td>1</td><td>Petrol   </td><td>2</td><td>Not fair</td><td> 63.0</td><td>47.67</td><td> 999.0000</td></tr>\n",
              "\t<tr><td>2</td><td>Petrol   </td><td>4</td><td>Not fair</td><td> 58.0</td><td>68.23</td><td> 277.8900</td></tr>\n",
              "\t<tr><td>1</td><td>Petrol   </td><td>1</td><td>Fair    </td><td>103.0</td><td>62.00</td><td> 170.0000</td></tr>\n",
              "\t<tr><td>2</td><td>Diesel   </td><td>5</td><td>Not fair</td><td> 69.0</td><td>62.00</td><td> 169.0000</td></tr>\n",
              "\t<tr><td>2</td><td>Petrol   </td><td>2</td><td>Fair    </td><td>103.0</td><td>58.00</td><td> 189.0000</td></tr>\n",
              "\t<tr><td>1</td><td>Petrol   </td><td>1</td><td>Fair    </td><td>103.0</td><td>69.00</td><td> 220.0000</td></tr>\n",
              "\t<tr><td>1</td><td>Petrol   </td><td>1</td><td>Not fair</td><td> 87.0</td><td>63.00</td><td> 167.0000</td></tr>\n",
              "\t<tr><td>1</td><td>Petrol   </td><td>1</td><td>Fair    </td><td> 65.0</td><td>58.00</td><td> 230.0000</td></tr>\n",
              "\t<tr><td>2</td><td>Petrol   </td><td>1</td><td>Not fair</td><td> 70.0</td><td>70.00</td><td> 150.0000</td></tr>\n",
              "\t<tr><td>1</td><td>Petrol   </td><td>1</td><td>Not fair</td><td> 72.3</td><td>63.45</td><td> 199.9000</td></tr>\n",
              "\t<tr><td>1</td><td>Petrol   </td><td>1</td><td>Not fair</td><td> 54.1</td><td>34.00</td><td> 189.0000</td></tr>\n",
              "\t<tr><td>1</td><td>Petrol   </td><td>1</td><td>Fair    </td><td> 60.0</td><td>40.00</td><td> 250.0000</td></tr>\n",
              "\t<tr><td>2</td><td>Petrol   </td><td>1</td><td>Not fair</td><td> 69.0</td><td>50.00</td><td> 222.0000</td></tr>\n",
              "\t<tr><td>1</td><td>Petrol   </td><td>1</td><td>Not fair</td><td> 67.0</td><td>45.00</td><td> 243.0000</td></tr>\n",
              "\t<tr><td>2</td><td>Petrol   </td><td>1</td><td>Not fair</td><td> 80.0</td><td>40.00</td><td> 200.0000</td></tr>\n",
              "\t<tr><td>2</td><td>Petrol   </td><td>1</td><td>Not fair</td><td> 80.0</td><td>72.00</td><td> 400.0000</td></tr>\n",
              "\t<tr><td>2</td><td>Diesel   </td><td>2</td><td>Not fair</td><td>100.0</td><td>   NA</td><td> 433.7026</td></tr>\n",
              "\t<tr><td>2</td><td>Diesel   </td><td>2</td><td>Not fair</td><td> 60.0</td><td>56.65</td><td> 200.0000</td></tr>\n",
              "\t<tr><td>2</td><td>Petrol   </td><td>3</td><td>Not fair</td><td> 60.0</td><td>65.00</td><td> 300.0000</td></tr>\n",
              "\t<tr><td>4</td><td>Petrol   </td><td>2</td><td>Not fair</td><td> 75.0</td><td>65.00</td><td> 190.0000</td></tr>\n",
              "</tbody>\n",
              "</table>\n"
            ],
            "text/markdown": "\nA data.frame: 110 × 7\n\n| No_vechicles &lt;dbl&gt; | Fuel_type &lt;chr&gt; | vehicle_consumption &lt;dbl&gt; | Current_petrol_price &lt;chr&gt; | Expected_price &lt;dbl&gt; | PP_before_10_years &lt;dbl&gt; | PPP_after_10.years &lt;dbl&gt; |\n|---|---|---|---|---|---|---|\n| 1 | Petrol | 1 | Not fair |  70.00 |  50.00 |  130.0000 |\n| 3 | Petrol | 1 | Not fair |  60.00 |  40.00 |  200.0000 |\n| 3 | Petrol | 1 | Not fair |  90.00 |  55.00 |  500.0000 |\n| 2 | Petrol | 1 | Not fair |  90.00 |  70.00 |  500.0000 |\n| 3 | Petrol | 2 | Not fair |  89.00 |  60.00 |  130.0000 |\n| 1 | Petrol | 1 | Not fair |  82.00 |  60.00 |  150.0000 |\n| 2 | Petrol | 1 | Fair     |  90.00 |  40.00 |  200.0000 |\n| 2 | Petrol | 2 | Not fair |  50.00 |  50.00 | 1000.0000 |\n| 3 | Petrol | 1 | Not fair |  80.00 |  48.00 |  130.0000 |\n| 2 | Petrol | 1 | Not fair |  80.00 |  50.00 |  200.0000 |\n| 1 | Petrol | 1 | Not fair |  75.00 |  40.00 |  200.0000 |\n| 2 | Petrol | 1 | Not fair |  71.03 |  50.52 |  485.3900 |\n| 5 | Petrol | 4 | Fair     |  90.00 |  64.00 |  150.0000 |\n| 3 | Petrol | 1 | Not fair |  85.00 |  65.00 |  250.0000 |\n| 2 | Petrol | 1 | Not fair |  80.00 |  60.00 |  500.0000 |\n| 3 | Petrol | 1 | Not fair |  45.00 |  60.00 |  200.0000 |\n| 1 | Gas    | 2 | Not fair |  85.00 |  60.00 |  433.7026 |\n| 2 | Petrol | 1 | Not fair |  80.00 |  40.00 |  200.0000 |\n| 1 | Petrol | 1 | Not fair |  70.00 |  50.00 |  200.0000 |\n| 1 | Petrol | 1 | Not fair |  60.00 |  40.00 |  433.7026 |\n| 2 | Petrol | 1 | Fair     | 101.00 |  43.00 |  300.0000 |\n| 1 | Petrol | 1 | Not fair |  80.00 |  63.00 |  250.0000 |\n| 3 | Diesel | 3 | Fair     |     NA |     NA |  433.7026 |\n| 2 | Petrol | 1 | Not fair |     NA |     NA |  433.7026 |\n| 2 | Petrol | 2 | Not fair |  80.00 |     NA |  200.0000 |\n| 2 | Petrol | 1 | Not fair |  70.00 |  50.00 | 1000.0000 |\n| 2 | Petrol | 2 | Not fair |  80.00 |  60.00 |  200.0000 |\n| 1 | Petrol | 1 | Not fair |  80.00 | 200.00 |  200.0000 |\n| 1 | Petrol | 1 | Not fair |  85.00 |  65.00 |  170.0000 |\n| 3 | Petrol | 4 | Not fair |  90.00 |  75.00 |  150.0000 |\n| ⋮ | ⋮ | ⋮ | ⋮ | ⋮ | ⋮ | ⋮ |\n| 2 | Petrol    | 5 | Not fair |  78.0 | 54.00 |  238.9000 |\n| 2 | Diesel    | 4 | Not fair |  78.0 | 61.31 |  299.5900 |\n| 1 | Petrol    | 1 | Not fair |  58.9 | 54.20 |  234.5000 |\n| 3 | Petrol    | 4 | Fair     | 101.0 | 69.60 | 1200.3400 |\n| 5 | Biodiesel | 5 | Fair     | 101.0 | 70.00 | 2500.0000 |\n| 1 | Petrol    | 3 | Fair     | 103.0 | 61.00 | 1700.0000 |\n| 2 | Biodiesel | 4 | Fair     | 103.0 | 79.00 | 1200.0000 |\n| 2 | Diesel    | 2 | Fair     | 103.0 | 67.80 | 1345.6000 |\n| 1 | Petrol    | 1 | Not fair |  78.9 | 67.80 |  567.8000 |\n| 1 | Petrol    | 1 | Fair     | 103.0 | 68.00 |  890.0000 |\n| 1 | Petrol    | 2 | Not fair |  63.0 | 47.67 |  999.0000 |\n| 2 | Petrol    | 4 | Not fair |  58.0 | 68.23 |  277.8900 |\n| 1 | Petrol    | 1 | Fair     | 103.0 | 62.00 |  170.0000 |\n| 2 | Diesel    | 5 | Not fair |  69.0 | 62.00 |  169.0000 |\n| 2 | Petrol    | 2 | Fair     | 103.0 | 58.00 |  189.0000 |\n| 1 | Petrol    | 1 | Fair     | 103.0 | 69.00 |  220.0000 |\n| 1 | Petrol    | 1 | Not fair |  87.0 | 63.00 |  167.0000 |\n| 1 | Petrol    | 1 | Fair     |  65.0 | 58.00 |  230.0000 |\n| 2 | Petrol    | 1 | Not fair |  70.0 | 70.00 |  150.0000 |\n| 1 | Petrol    | 1 | Not fair |  72.3 | 63.45 |  199.9000 |\n| 1 | Petrol    | 1 | Not fair |  54.1 | 34.00 |  189.0000 |\n| 1 | Petrol    | 1 | Fair     |  60.0 | 40.00 |  250.0000 |\n| 2 | Petrol    | 1 | Not fair |  69.0 | 50.00 |  222.0000 |\n| 1 | Petrol    | 1 | Not fair |  67.0 | 45.00 |  243.0000 |\n| 2 | Petrol    | 1 | Not fair |  80.0 | 40.00 |  200.0000 |\n| 2 | Petrol    | 1 | Not fair |  80.0 | 72.00 |  400.0000 |\n| 2 | Diesel    | 2 | Not fair | 100.0 |    NA |  433.7026 |\n| 2 | Diesel    | 2 | Not fair |  60.0 | 56.65 |  200.0000 |\n| 2 | Petrol    | 3 | Not fair |  60.0 | 65.00 |  300.0000 |\n| 4 | Petrol    | 2 | Not fair |  75.0 | 65.00 |  190.0000 |\n\n",
            "text/latex": "A data.frame: 110 × 7\n\\begin{tabular}{lllllll}\n No\\_vechicles & Fuel\\_type & vehicle\\_consumption & Current\\_petrol\\_price & Expected\\_price & PP\\_before\\_10\\_years & PPP\\_after\\_10.years\\\\\n <dbl> & <chr> & <dbl> & <chr> & <dbl> & <dbl> & <dbl>\\\\\n\\hline\n\t 1 & Petrol & 1 & Not fair &  70.00 &  50.00 &  130.0000\\\\\n\t 3 & Petrol & 1 & Not fair &  60.00 &  40.00 &  200.0000\\\\\n\t 3 & Petrol & 1 & Not fair &  90.00 &  55.00 &  500.0000\\\\\n\t 2 & Petrol & 1 & Not fair &  90.00 &  70.00 &  500.0000\\\\\n\t 3 & Petrol & 2 & Not fair &  89.00 &  60.00 &  130.0000\\\\\n\t 1 & Petrol & 1 & Not fair &  82.00 &  60.00 &  150.0000\\\\\n\t 2 & Petrol & 1 & Fair     &  90.00 &  40.00 &  200.0000\\\\\n\t 2 & Petrol & 2 & Not fair &  50.00 &  50.00 & 1000.0000\\\\\n\t 3 & Petrol & 1 & Not fair &  80.00 &  48.00 &  130.0000\\\\\n\t 2 & Petrol & 1 & Not fair &  80.00 &  50.00 &  200.0000\\\\\n\t 1 & Petrol & 1 & Not fair &  75.00 &  40.00 &  200.0000\\\\\n\t 2 & Petrol & 1 & Not fair &  71.03 &  50.52 &  485.3900\\\\\n\t 5 & Petrol & 4 & Fair     &  90.00 &  64.00 &  150.0000\\\\\n\t 3 & Petrol & 1 & Not fair &  85.00 &  65.00 &  250.0000\\\\\n\t 2 & Petrol & 1 & Not fair &  80.00 &  60.00 &  500.0000\\\\\n\t 3 & Petrol & 1 & Not fair &  45.00 &  60.00 &  200.0000\\\\\n\t 1 & Gas    & 2 & Not fair &  85.00 &  60.00 &  433.7026\\\\\n\t 2 & Petrol & 1 & Not fair &  80.00 &  40.00 &  200.0000\\\\\n\t 1 & Petrol & 1 & Not fair &  70.00 &  50.00 &  200.0000\\\\\n\t 1 & Petrol & 1 & Not fair &  60.00 &  40.00 &  433.7026\\\\\n\t 2 & Petrol & 1 & Fair     & 101.00 &  43.00 &  300.0000\\\\\n\t 1 & Petrol & 1 & Not fair &  80.00 &  63.00 &  250.0000\\\\\n\t 3 & Diesel & 3 & Fair     &     NA &     NA &  433.7026\\\\\n\t 2 & Petrol & 1 & Not fair &     NA &     NA &  433.7026\\\\\n\t 2 & Petrol & 2 & Not fair &  80.00 &     NA &  200.0000\\\\\n\t 2 & Petrol & 1 & Not fair &  70.00 &  50.00 & 1000.0000\\\\\n\t 2 & Petrol & 2 & Not fair &  80.00 &  60.00 &  200.0000\\\\\n\t 1 & Petrol & 1 & Not fair &  80.00 & 200.00 &  200.0000\\\\\n\t 1 & Petrol & 1 & Not fair &  85.00 &  65.00 &  170.0000\\\\\n\t 3 & Petrol & 4 & Not fair &  90.00 &  75.00 &  150.0000\\\\\n\t ⋮ & ⋮ & ⋮ & ⋮ & ⋮ & ⋮ & ⋮\\\\\n\t 2 & Petrol    & 5 & Not fair &  78.0 & 54.00 &  238.9000\\\\\n\t 2 & Diesel    & 4 & Not fair &  78.0 & 61.31 &  299.5900\\\\\n\t 1 & Petrol    & 1 & Not fair &  58.9 & 54.20 &  234.5000\\\\\n\t 3 & Petrol    & 4 & Fair     & 101.0 & 69.60 & 1200.3400\\\\\n\t 5 & Biodiesel & 5 & Fair     & 101.0 & 70.00 & 2500.0000\\\\\n\t 1 & Petrol    & 3 & Fair     & 103.0 & 61.00 & 1700.0000\\\\\n\t 2 & Biodiesel & 4 & Fair     & 103.0 & 79.00 & 1200.0000\\\\\n\t 2 & Diesel    & 2 & Fair     & 103.0 & 67.80 & 1345.6000\\\\\n\t 1 & Petrol    & 1 & Not fair &  78.9 & 67.80 &  567.8000\\\\\n\t 1 & Petrol    & 1 & Fair     & 103.0 & 68.00 &  890.0000\\\\\n\t 1 & Petrol    & 2 & Not fair &  63.0 & 47.67 &  999.0000\\\\\n\t 2 & Petrol    & 4 & Not fair &  58.0 & 68.23 &  277.8900\\\\\n\t 1 & Petrol    & 1 & Fair     & 103.0 & 62.00 &  170.0000\\\\\n\t 2 & Diesel    & 5 & Not fair &  69.0 & 62.00 &  169.0000\\\\\n\t 2 & Petrol    & 2 & Fair     & 103.0 & 58.00 &  189.0000\\\\\n\t 1 & Petrol    & 1 & Fair     & 103.0 & 69.00 &  220.0000\\\\\n\t 1 & Petrol    & 1 & Not fair &  87.0 & 63.00 &  167.0000\\\\\n\t 1 & Petrol    & 1 & Fair     &  65.0 & 58.00 &  230.0000\\\\\n\t 2 & Petrol    & 1 & Not fair &  70.0 & 70.00 &  150.0000\\\\\n\t 1 & Petrol    & 1 & Not fair &  72.3 & 63.45 &  199.9000\\\\\n\t 1 & Petrol    & 1 & Not fair &  54.1 & 34.00 &  189.0000\\\\\n\t 1 & Petrol    & 1 & Fair     &  60.0 & 40.00 &  250.0000\\\\\n\t 2 & Petrol    & 1 & Not fair &  69.0 & 50.00 &  222.0000\\\\\n\t 1 & Petrol    & 1 & Not fair &  67.0 & 45.00 &  243.0000\\\\\n\t 2 & Petrol    & 1 & Not fair &  80.0 & 40.00 &  200.0000\\\\\n\t 2 & Petrol    & 1 & Not fair &  80.0 & 72.00 &  400.0000\\\\\n\t 2 & Diesel    & 2 & Not fair & 100.0 &    NA &  433.7026\\\\\n\t 2 & Diesel    & 2 & Not fair &  60.0 & 56.65 &  200.0000\\\\\n\t 2 & Petrol    & 3 & Not fair &  60.0 & 65.00 &  300.0000\\\\\n\t 4 & Petrol    & 2 & Not fair &  75.0 & 65.00 &  190.0000\\\\\n\\end{tabular}\n",
            "text/plain": [
              "    No_vechicles Fuel_type vehicle_consumption Current_petrol_price\n",
              "1   1            Petrol    1                   Not fair            \n",
              "2   3            Petrol    1                   Not fair            \n",
              "3   3            Petrol    1                   Not fair            \n",
              "4   2            Petrol    1                   Not fair            \n",
              "5   3            Petrol    2                   Not fair            \n",
              "6   1            Petrol    1                   Not fair            \n",
              "7   2            Petrol    1                   Fair                \n",
              "8   2            Petrol    2                   Not fair            \n",
              "9   3            Petrol    1                   Not fair            \n",
              "10  2            Petrol    1                   Not fair            \n",
              "11  1            Petrol    1                   Not fair            \n",
              "12  2            Petrol    1                   Not fair            \n",
              "13  5            Petrol    4                   Fair                \n",
              "14  3            Petrol    1                   Not fair            \n",
              "15  2            Petrol    1                   Not fair            \n",
              "16  3            Petrol    1                   Not fair            \n",
              "17  1            Gas       2                   Not fair            \n",
              "18  2            Petrol    1                   Not fair            \n",
              "19  1            Petrol    1                   Not fair            \n",
              "20  1            Petrol    1                   Not fair            \n",
              "21  2            Petrol    1                   Fair                \n",
              "22  1            Petrol    1                   Not fair            \n",
              "23  3            Diesel    3                   Fair                \n",
              "24  2            Petrol    1                   Not fair            \n",
              "25  2            Petrol    2                   Not fair            \n",
              "26  2            Petrol    1                   Not fair            \n",
              "27  2            Petrol    2                   Not fair            \n",
              "28  1            Petrol    1                   Not fair            \n",
              "29  1            Petrol    1                   Not fair            \n",
              "30  3            Petrol    4                   Not fair            \n",
              "⋮   ⋮            ⋮         ⋮                   ⋮                   \n",
              "81  2            Petrol    5                   Not fair            \n",
              "82  2            Diesel    4                   Not fair            \n",
              "83  1            Petrol    1                   Not fair            \n",
              "84  3            Petrol    4                   Fair                \n",
              "85  5            Biodiesel 5                   Fair                \n",
              "86  1            Petrol    3                   Fair                \n",
              "87  2            Biodiesel 4                   Fair                \n",
              "88  2            Diesel    2                   Fair                \n",
              "89  1            Petrol    1                   Not fair            \n",
              "90  1            Petrol    1                   Fair                \n",
              "91  1            Petrol    2                   Not fair            \n",
              "92  2            Petrol    4                   Not fair            \n",
              "93  1            Petrol    1                   Fair                \n",
              "94  2            Diesel    5                   Not fair            \n",
              "95  2            Petrol    2                   Fair                \n",
              "96  1            Petrol    1                   Fair                \n",
              "97  1            Petrol    1                   Not fair            \n",
              "98  1            Petrol    1                   Fair                \n",
              "99  2            Petrol    1                   Not fair            \n",
              "100 1            Petrol    1                   Not fair            \n",
              "101 1            Petrol    1                   Not fair            \n",
              "102 1            Petrol    1                   Fair                \n",
              "103 2            Petrol    1                   Not fair            \n",
              "104 1            Petrol    1                   Not fair            \n",
              "105 2            Petrol    1                   Not fair            \n",
              "106 2            Petrol    1                   Not fair            \n",
              "107 2            Diesel    2                   Not fair            \n",
              "108 2            Diesel    2                   Not fair            \n",
              "109 2            Petrol    3                   Not fair            \n",
              "110 4            Petrol    2                   Not fair            \n",
              "    Expected_price PP_before_10_years PPP_after_10.years\n",
              "1    70.00          50.00              130.0000         \n",
              "2    60.00          40.00              200.0000         \n",
              "3    90.00          55.00              500.0000         \n",
              "4    90.00          70.00              500.0000         \n",
              "5    89.00          60.00              130.0000         \n",
              "6    82.00          60.00              150.0000         \n",
              "7    90.00          40.00              200.0000         \n",
              "8    50.00          50.00             1000.0000         \n",
              "9    80.00          48.00              130.0000         \n",
              "10   80.00          50.00              200.0000         \n",
              "11   75.00          40.00              200.0000         \n",
              "12   71.03          50.52              485.3900         \n",
              "13   90.00          64.00              150.0000         \n",
              "14   85.00          65.00              250.0000         \n",
              "15   80.00          60.00              500.0000         \n",
              "16   45.00          60.00              200.0000         \n",
              "17   85.00          60.00              433.7026         \n",
              "18   80.00          40.00              200.0000         \n",
              "19   70.00          50.00              200.0000         \n",
              "20   60.00          40.00              433.7026         \n",
              "21  101.00          43.00              300.0000         \n",
              "22   80.00          63.00              250.0000         \n",
              "23      NA             NA              433.7026         \n",
              "24      NA             NA              433.7026         \n",
              "25   80.00             NA              200.0000         \n",
              "26   70.00          50.00             1000.0000         \n",
              "27   80.00          60.00              200.0000         \n",
              "28   80.00         200.00              200.0000         \n",
              "29   85.00          65.00              170.0000         \n",
              "30   90.00          75.00              150.0000         \n",
              "⋮   ⋮              ⋮                  ⋮                 \n",
              "81   78.0          54.00               238.9000         \n",
              "82   78.0          61.31               299.5900         \n",
              "83   58.9          54.20               234.5000         \n",
              "84  101.0          69.60              1200.3400         \n",
              "85  101.0          70.00              2500.0000         \n",
              "86  103.0          61.00              1700.0000         \n",
              "87  103.0          79.00              1200.0000         \n",
              "88  103.0          67.80              1345.6000         \n",
              "89   78.9          67.80               567.8000         \n",
              "90  103.0          68.00               890.0000         \n",
              "91   63.0          47.67               999.0000         \n",
              "92   58.0          68.23               277.8900         \n",
              "93  103.0          62.00               170.0000         \n",
              "94   69.0          62.00               169.0000         \n",
              "95  103.0          58.00               189.0000         \n",
              "96  103.0          69.00               220.0000         \n",
              "97   87.0          63.00               167.0000         \n",
              "98   65.0          58.00               230.0000         \n",
              "99   70.0          70.00               150.0000         \n",
              "100  72.3          63.45               199.9000         \n",
              "101  54.1          34.00               189.0000         \n",
              "102  60.0          40.00               250.0000         \n",
              "103  69.0          50.00               222.0000         \n",
              "104  67.0          45.00               243.0000         \n",
              "105  80.0          40.00               200.0000         \n",
              "106  80.0          72.00               400.0000         \n",
              "107 100.0             NA               433.7026         \n",
              "108  60.0          56.65               200.0000         \n",
              "109  60.0          65.00               300.0000         \n",
              "110  75.0          65.00               190.0000         "
            ]
          },
          "metadata": {}
        }
      ]
    },
    {
      "cell_type": "code",
      "source": [
        "for(i in 6:ncol(data)){data[is.na(data[,6]),6]<-mean(data[,6],na.rm = TRUE)}\n",
        "data\n",
        "#Mean of PPP_Before_10 = 55.81343"
      ],
      "metadata": {
        "colab": {
          "base_uri": "https://localhost:8080/",
          "height": 1000
        },
        "id": "ZC-Px3Y6dnmW",
        "outputId": "94b72260-b195-49c4-9770-4e0fea6b8b48"
      },
      "execution_count": 26,
      "outputs": [
        {
          "output_type": "display_data",
          "data": {
            "text/html": [
              "<table class=\"dataframe\">\n",
              "<caption>A data.frame: 110 × 7</caption>\n",
              "<thead>\n",
              "\t<tr><th scope=col>No_vechicles</th><th scope=col>Fuel_type</th><th scope=col>vehicle_consumption</th><th scope=col>Current_petrol_price</th><th scope=col>Expected_price</th><th scope=col>PP_before_10_years</th><th scope=col>PPP_after_10.years</th></tr>\n",
              "\t<tr><th scope=col>&lt;dbl&gt;</th><th scope=col>&lt;chr&gt;</th><th scope=col>&lt;dbl&gt;</th><th scope=col>&lt;chr&gt;</th><th scope=col>&lt;dbl&gt;</th><th scope=col>&lt;dbl&gt;</th><th scope=col>&lt;dbl&gt;</th></tr>\n",
              "</thead>\n",
              "<tbody>\n",
              "\t<tr><td>1</td><td>Petrol</td><td>1</td><td>Not fair</td><td> 70.00</td><td> 50.00000</td><td> 130.0000</td></tr>\n",
              "\t<tr><td>3</td><td>Petrol</td><td>1</td><td>Not fair</td><td> 60.00</td><td> 40.00000</td><td> 200.0000</td></tr>\n",
              "\t<tr><td>3</td><td>Petrol</td><td>1</td><td>Not fair</td><td> 90.00</td><td> 55.00000</td><td> 500.0000</td></tr>\n",
              "\t<tr><td>2</td><td>Petrol</td><td>1</td><td>Not fair</td><td> 90.00</td><td> 70.00000</td><td> 500.0000</td></tr>\n",
              "\t<tr><td>3</td><td>Petrol</td><td>2</td><td>Not fair</td><td> 89.00</td><td> 60.00000</td><td> 130.0000</td></tr>\n",
              "\t<tr><td>1</td><td>Petrol</td><td>1</td><td>Not fair</td><td> 82.00</td><td> 60.00000</td><td> 150.0000</td></tr>\n",
              "\t<tr><td>2</td><td>Petrol</td><td>1</td><td>Fair    </td><td> 90.00</td><td> 40.00000</td><td> 200.0000</td></tr>\n",
              "\t<tr><td>2</td><td>Petrol</td><td>2</td><td>Not fair</td><td> 50.00</td><td> 50.00000</td><td>1000.0000</td></tr>\n",
              "\t<tr><td>3</td><td>Petrol</td><td>1</td><td>Not fair</td><td> 80.00</td><td> 48.00000</td><td> 130.0000</td></tr>\n",
              "\t<tr><td>2</td><td>Petrol</td><td>1</td><td>Not fair</td><td> 80.00</td><td> 50.00000</td><td> 200.0000</td></tr>\n",
              "\t<tr><td>1</td><td>Petrol</td><td>1</td><td>Not fair</td><td> 75.00</td><td> 40.00000</td><td> 200.0000</td></tr>\n",
              "\t<tr><td>2</td><td>Petrol</td><td>1</td><td>Not fair</td><td> 71.03</td><td> 50.52000</td><td> 485.3900</td></tr>\n",
              "\t<tr><td>5</td><td>Petrol</td><td>4</td><td>Fair    </td><td> 90.00</td><td> 64.00000</td><td> 150.0000</td></tr>\n",
              "\t<tr><td>3</td><td>Petrol</td><td>1</td><td>Not fair</td><td> 85.00</td><td> 65.00000</td><td> 250.0000</td></tr>\n",
              "\t<tr><td>2</td><td>Petrol</td><td>1</td><td>Not fair</td><td> 80.00</td><td> 60.00000</td><td> 500.0000</td></tr>\n",
              "\t<tr><td>3</td><td>Petrol</td><td>1</td><td>Not fair</td><td> 45.00</td><td> 60.00000</td><td> 200.0000</td></tr>\n",
              "\t<tr><td>1</td><td>Gas   </td><td>2</td><td>Not fair</td><td> 85.00</td><td> 60.00000</td><td> 433.7026</td></tr>\n",
              "\t<tr><td>2</td><td>Petrol</td><td>1</td><td>Not fair</td><td> 80.00</td><td> 40.00000</td><td> 200.0000</td></tr>\n",
              "\t<tr><td>1</td><td>Petrol</td><td>1</td><td>Not fair</td><td> 70.00</td><td> 50.00000</td><td> 200.0000</td></tr>\n",
              "\t<tr><td>1</td><td>Petrol</td><td>1</td><td>Not fair</td><td> 60.00</td><td> 40.00000</td><td> 433.7026</td></tr>\n",
              "\t<tr><td>2</td><td>Petrol</td><td>1</td><td>Fair    </td><td>101.00</td><td> 43.00000</td><td> 300.0000</td></tr>\n",
              "\t<tr><td>1</td><td>Petrol</td><td>1</td><td>Not fair</td><td> 80.00</td><td> 63.00000</td><td> 250.0000</td></tr>\n",
              "\t<tr><td>3</td><td>Diesel</td><td>3</td><td>Fair    </td><td>    NA</td><td> 55.81343</td><td> 433.7026</td></tr>\n",
              "\t<tr><td>2</td><td>Petrol</td><td>1</td><td>Not fair</td><td>    NA</td><td> 55.81343</td><td> 433.7026</td></tr>\n",
              "\t<tr><td>2</td><td>Petrol</td><td>2</td><td>Not fair</td><td> 80.00</td><td> 55.81343</td><td> 200.0000</td></tr>\n",
              "\t<tr><td>2</td><td>Petrol</td><td>1</td><td>Not fair</td><td> 70.00</td><td> 50.00000</td><td>1000.0000</td></tr>\n",
              "\t<tr><td>2</td><td>Petrol</td><td>2</td><td>Not fair</td><td> 80.00</td><td> 60.00000</td><td> 200.0000</td></tr>\n",
              "\t<tr><td>1</td><td>Petrol</td><td>1</td><td>Not fair</td><td> 80.00</td><td>200.00000</td><td> 200.0000</td></tr>\n",
              "\t<tr><td>1</td><td>Petrol</td><td>1</td><td>Not fair</td><td> 85.00</td><td> 65.00000</td><td> 170.0000</td></tr>\n",
              "\t<tr><td>3</td><td>Petrol</td><td>4</td><td>Not fair</td><td> 90.00</td><td> 75.00000</td><td> 150.0000</td></tr>\n",
              "\t<tr><td>⋮</td><td>⋮</td><td>⋮</td><td>⋮</td><td>⋮</td><td>⋮</td><td>⋮</td></tr>\n",
              "\t<tr><td>2</td><td>Petrol   </td><td>5</td><td>Not fair</td><td> 78.0</td><td>54.00000</td><td> 238.9000</td></tr>\n",
              "\t<tr><td>2</td><td>Diesel   </td><td>4</td><td>Not fair</td><td> 78.0</td><td>61.31000</td><td> 299.5900</td></tr>\n",
              "\t<tr><td>1</td><td>Petrol   </td><td>1</td><td>Not fair</td><td> 58.9</td><td>54.20000</td><td> 234.5000</td></tr>\n",
              "\t<tr><td>3</td><td>Petrol   </td><td>4</td><td>Fair    </td><td>101.0</td><td>69.60000</td><td>1200.3400</td></tr>\n",
              "\t<tr><td>5</td><td>Biodiesel</td><td>5</td><td>Fair    </td><td>101.0</td><td>70.00000</td><td>2500.0000</td></tr>\n",
              "\t<tr><td>1</td><td>Petrol   </td><td>3</td><td>Fair    </td><td>103.0</td><td>61.00000</td><td>1700.0000</td></tr>\n",
              "\t<tr><td>2</td><td>Biodiesel</td><td>4</td><td>Fair    </td><td>103.0</td><td>79.00000</td><td>1200.0000</td></tr>\n",
              "\t<tr><td>2</td><td>Diesel   </td><td>2</td><td>Fair    </td><td>103.0</td><td>67.80000</td><td>1345.6000</td></tr>\n",
              "\t<tr><td>1</td><td>Petrol   </td><td>1</td><td>Not fair</td><td> 78.9</td><td>67.80000</td><td> 567.8000</td></tr>\n",
              "\t<tr><td>1</td><td>Petrol   </td><td>1</td><td>Fair    </td><td>103.0</td><td>68.00000</td><td> 890.0000</td></tr>\n",
              "\t<tr><td>1</td><td>Petrol   </td><td>2</td><td>Not fair</td><td> 63.0</td><td>47.67000</td><td> 999.0000</td></tr>\n",
              "\t<tr><td>2</td><td>Petrol   </td><td>4</td><td>Not fair</td><td> 58.0</td><td>68.23000</td><td> 277.8900</td></tr>\n",
              "\t<tr><td>1</td><td>Petrol   </td><td>1</td><td>Fair    </td><td>103.0</td><td>62.00000</td><td> 170.0000</td></tr>\n",
              "\t<tr><td>2</td><td>Diesel   </td><td>5</td><td>Not fair</td><td> 69.0</td><td>62.00000</td><td> 169.0000</td></tr>\n",
              "\t<tr><td>2</td><td>Petrol   </td><td>2</td><td>Fair    </td><td>103.0</td><td>58.00000</td><td> 189.0000</td></tr>\n",
              "\t<tr><td>1</td><td>Petrol   </td><td>1</td><td>Fair    </td><td>103.0</td><td>69.00000</td><td> 220.0000</td></tr>\n",
              "\t<tr><td>1</td><td>Petrol   </td><td>1</td><td>Not fair</td><td> 87.0</td><td>63.00000</td><td> 167.0000</td></tr>\n",
              "\t<tr><td>1</td><td>Petrol   </td><td>1</td><td>Fair    </td><td> 65.0</td><td>58.00000</td><td> 230.0000</td></tr>\n",
              "\t<tr><td>2</td><td>Petrol   </td><td>1</td><td>Not fair</td><td> 70.0</td><td>70.00000</td><td> 150.0000</td></tr>\n",
              "\t<tr><td>1</td><td>Petrol   </td><td>1</td><td>Not fair</td><td> 72.3</td><td>63.45000</td><td> 199.9000</td></tr>\n",
              "\t<tr><td>1</td><td>Petrol   </td><td>1</td><td>Not fair</td><td> 54.1</td><td>34.00000</td><td> 189.0000</td></tr>\n",
              "\t<tr><td>1</td><td>Petrol   </td><td>1</td><td>Fair    </td><td> 60.0</td><td>40.00000</td><td> 250.0000</td></tr>\n",
              "\t<tr><td>2</td><td>Petrol   </td><td>1</td><td>Not fair</td><td> 69.0</td><td>50.00000</td><td> 222.0000</td></tr>\n",
              "\t<tr><td>1</td><td>Petrol   </td><td>1</td><td>Not fair</td><td> 67.0</td><td>45.00000</td><td> 243.0000</td></tr>\n",
              "\t<tr><td>2</td><td>Petrol   </td><td>1</td><td>Not fair</td><td> 80.0</td><td>40.00000</td><td> 200.0000</td></tr>\n",
              "\t<tr><td>2</td><td>Petrol   </td><td>1</td><td>Not fair</td><td> 80.0</td><td>72.00000</td><td> 400.0000</td></tr>\n",
              "\t<tr><td>2</td><td>Diesel   </td><td>2</td><td>Not fair</td><td>100.0</td><td>55.81343</td><td> 433.7026</td></tr>\n",
              "\t<tr><td>2</td><td>Diesel   </td><td>2</td><td>Not fair</td><td> 60.0</td><td>56.65000</td><td> 200.0000</td></tr>\n",
              "\t<tr><td>2</td><td>Petrol   </td><td>3</td><td>Not fair</td><td> 60.0</td><td>65.00000</td><td> 300.0000</td></tr>\n",
              "\t<tr><td>4</td><td>Petrol   </td><td>2</td><td>Not fair</td><td> 75.0</td><td>65.00000</td><td> 190.0000</td></tr>\n",
              "</tbody>\n",
              "</table>\n"
            ],
            "text/markdown": "\nA data.frame: 110 × 7\n\n| No_vechicles &lt;dbl&gt; | Fuel_type &lt;chr&gt; | vehicle_consumption &lt;dbl&gt; | Current_petrol_price &lt;chr&gt; | Expected_price &lt;dbl&gt; | PP_before_10_years &lt;dbl&gt; | PPP_after_10.years &lt;dbl&gt; |\n|---|---|---|---|---|---|---|\n| 1 | Petrol | 1 | Not fair |  70.00 |  50.00000 |  130.0000 |\n| 3 | Petrol | 1 | Not fair |  60.00 |  40.00000 |  200.0000 |\n| 3 | Petrol | 1 | Not fair |  90.00 |  55.00000 |  500.0000 |\n| 2 | Petrol | 1 | Not fair |  90.00 |  70.00000 |  500.0000 |\n| 3 | Petrol | 2 | Not fair |  89.00 |  60.00000 |  130.0000 |\n| 1 | Petrol | 1 | Not fair |  82.00 |  60.00000 |  150.0000 |\n| 2 | Petrol | 1 | Fair     |  90.00 |  40.00000 |  200.0000 |\n| 2 | Petrol | 2 | Not fair |  50.00 |  50.00000 | 1000.0000 |\n| 3 | Petrol | 1 | Not fair |  80.00 |  48.00000 |  130.0000 |\n| 2 | Petrol | 1 | Not fair |  80.00 |  50.00000 |  200.0000 |\n| 1 | Petrol | 1 | Not fair |  75.00 |  40.00000 |  200.0000 |\n| 2 | Petrol | 1 | Not fair |  71.03 |  50.52000 |  485.3900 |\n| 5 | Petrol | 4 | Fair     |  90.00 |  64.00000 |  150.0000 |\n| 3 | Petrol | 1 | Not fair |  85.00 |  65.00000 |  250.0000 |\n| 2 | Petrol | 1 | Not fair |  80.00 |  60.00000 |  500.0000 |\n| 3 | Petrol | 1 | Not fair |  45.00 |  60.00000 |  200.0000 |\n| 1 | Gas    | 2 | Not fair |  85.00 |  60.00000 |  433.7026 |\n| 2 | Petrol | 1 | Not fair |  80.00 |  40.00000 |  200.0000 |\n| 1 | Petrol | 1 | Not fair |  70.00 |  50.00000 |  200.0000 |\n| 1 | Petrol | 1 | Not fair |  60.00 |  40.00000 |  433.7026 |\n| 2 | Petrol | 1 | Fair     | 101.00 |  43.00000 |  300.0000 |\n| 1 | Petrol | 1 | Not fair |  80.00 |  63.00000 |  250.0000 |\n| 3 | Diesel | 3 | Fair     |     NA |  55.81343 |  433.7026 |\n| 2 | Petrol | 1 | Not fair |     NA |  55.81343 |  433.7026 |\n| 2 | Petrol | 2 | Not fair |  80.00 |  55.81343 |  200.0000 |\n| 2 | Petrol | 1 | Not fair |  70.00 |  50.00000 | 1000.0000 |\n| 2 | Petrol | 2 | Not fair |  80.00 |  60.00000 |  200.0000 |\n| 1 | Petrol | 1 | Not fair |  80.00 | 200.00000 |  200.0000 |\n| 1 | Petrol | 1 | Not fair |  85.00 |  65.00000 |  170.0000 |\n| 3 | Petrol | 4 | Not fair |  90.00 |  75.00000 |  150.0000 |\n| ⋮ | ⋮ | ⋮ | ⋮ | ⋮ | ⋮ | ⋮ |\n| 2 | Petrol    | 5 | Not fair |  78.0 | 54.00000 |  238.9000 |\n| 2 | Diesel    | 4 | Not fair |  78.0 | 61.31000 |  299.5900 |\n| 1 | Petrol    | 1 | Not fair |  58.9 | 54.20000 |  234.5000 |\n| 3 | Petrol    | 4 | Fair     | 101.0 | 69.60000 | 1200.3400 |\n| 5 | Biodiesel | 5 | Fair     | 101.0 | 70.00000 | 2500.0000 |\n| 1 | Petrol    | 3 | Fair     | 103.0 | 61.00000 | 1700.0000 |\n| 2 | Biodiesel | 4 | Fair     | 103.0 | 79.00000 | 1200.0000 |\n| 2 | Diesel    | 2 | Fair     | 103.0 | 67.80000 | 1345.6000 |\n| 1 | Petrol    | 1 | Not fair |  78.9 | 67.80000 |  567.8000 |\n| 1 | Petrol    | 1 | Fair     | 103.0 | 68.00000 |  890.0000 |\n| 1 | Petrol    | 2 | Not fair |  63.0 | 47.67000 |  999.0000 |\n| 2 | Petrol    | 4 | Not fair |  58.0 | 68.23000 |  277.8900 |\n| 1 | Petrol    | 1 | Fair     | 103.0 | 62.00000 |  170.0000 |\n| 2 | Diesel    | 5 | Not fair |  69.0 | 62.00000 |  169.0000 |\n| 2 | Petrol    | 2 | Fair     | 103.0 | 58.00000 |  189.0000 |\n| 1 | Petrol    | 1 | Fair     | 103.0 | 69.00000 |  220.0000 |\n| 1 | Petrol    | 1 | Not fair |  87.0 | 63.00000 |  167.0000 |\n| 1 | Petrol    | 1 | Fair     |  65.0 | 58.00000 |  230.0000 |\n| 2 | Petrol    | 1 | Not fair |  70.0 | 70.00000 |  150.0000 |\n| 1 | Petrol    | 1 | Not fair |  72.3 | 63.45000 |  199.9000 |\n| 1 | Petrol    | 1 | Not fair |  54.1 | 34.00000 |  189.0000 |\n| 1 | Petrol    | 1 | Fair     |  60.0 | 40.00000 |  250.0000 |\n| 2 | Petrol    | 1 | Not fair |  69.0 | 50.00000 |  222.0000 |\n| 1 | Petrol    | 1 | Not fair |  67.0 | 45.00000 |  243.0000 |\n| 2 | Petrol    | 1 | Not fair |  80.0 | 40.00000 |  200.0000 |\n| 2 | Petrol    | 1 | Not fair |  80.0 | 72.00000 |  400.0000 |\n| 2 | Diesel    | 2 | Not fair | 100.0 | 55.81343 |  433.7026 |\n| 2 | Diesel    | 2 | Not fair |  60.0 | 56.65000 |  200.0000 |\n| 2 | Petrol    | 3 | Not fair |  60.0 | 65.00000 |  300.0000 |\n| 4 | Petrol    | 2 | Not fair |  75.0 | 65.00000 |  190.0000 |\n\n",
            "text/latex": "A data.frame: 110 × 7\n\\begin{tabular}{lllllll}\n No\\_vechicles & Fuel\\_type & vehicle\\_consumption & Current\\_petrol\\_price & Expected\\_price & PP\\_before\\_10\\_years & PPP\\_after\\_10.years\\\\\n <dbl> & <chr> & <dbl> & <chr> & <dbl> & <dbl> & <dbl>\\\\\n\\hline\n\t 1 & Petrol & 1 & Not fair &  70.00 &  50.00000 &  130.0000\\\\\n\t 3 & Petrol & 1 & Not fair &  60.00 &  40.00000 &  200.0000\\\\\n\t 3 & Petrol & 1 & Not fair &  90.00 &  55.00000 &  500.0000\\\\\n\t 2 & Petrol & 1 & Not fair &  90.00 &  70.00000 &  500.0000\\\\\n\t 3 & Petrol & 2 & Not fair &  89.00 &  60.00000 &  130.0000\\\\\n\t 1 & Petrol & 1 & Not fair &  82.00 &  60.00000 &  150.0000\\\\\n\t 2 & Petrol & 1 & Fair     &  90.00 &  40.00000 &  200.0000\\\\\n\t 2 & Petrol & 2 & Not fair &  50.00 &  50.00000 & 1000.0000\\\\\n\t 3 & Petrol & 1 & Not fair &  80.00 &  48.00000 &  130.0000\\\\\n\t 2 & Petrol & 1 & Not fair &  80.00 &  50.00000 &  200.0000\\\\\n\t 1 & Petrol & 1 & Not fair &  75.00 &  40.00000 &  200.0000\\\\\n\t 2 & Petrol & 1 & Not fair &  71.03 &  50.52000 &  485.3900\\\\\n\t 5 & Petrol & 4 & Fair     &  90.00 &  64.00000 &  150.0000\\\\\n\t 3 & Petrol & 1 & Not fair &  85.00 &  65.00000 &  250.0000\\\\\n\t 2 & Petrol & 1 & Not fair &  80.00 &  60.00000 &  500.0000\\\\\n\t 3 & Petrol & 1 & Not fair &  45.00 &  60.00000 &  200.0000\\\\\n\t 1 & Gas    & 2 & Not fair &  85.00 &  60.00000 &  433.7026\\\\\n\t 2 & Petrol & 1 & Not fair &  80.00 &  40.00000 &  200.0000\\\\\n\t 1 & Petrol & 1 & Not fair &  70.00 &  50.00000 &  200.0000\\\\\n\t 1 & Petrol & 1 & Not fair &  60.00 &  40.00000 &  433.7026\\\\\n\t 2 & Petrol & 1 & Fair     & 101.00 &  43.00000 &  300.0000\\\\\n\t 1 & Petrol & 1 & Not fair &  80.00 &  63.00000 &  250.0000\\\\\n\t 3 & Diesel & 3 & Fair     &     NA &  55.81343 &  433.7026\\\\\n\t 2 & Petrol & 1 & Not fair &     NA &  55.81343 &  433.7026\\\\\n\t 2 & Petrol & 2 & Not fair &  80.00 &  55.81343 &  200.0000\\\\\n\t 2 & Petrol & 1 & Not fair &  70.00 &  50.00000 & 1000.0000\\\\\n\t 2 & Petrol & 2 & Not fair &  80.00 &  60.00000 &  200.0000\\\\\n\t 1 & Petrol & 1 & Not fair &  80.00 & 200.00000 &  200.0000\\\\\n\t 1 & Petrol & 1 & Not fair &  85.00 &  65.00000 &  170.0000\\\\\n\t 3 & Petrol & 4 & Not fair &  90.00 &  75.00000 &  150.0000\\\\\n\t ⋮ & ⋮ & ⋮ & ⋮ & ⋮ & ⋮ & ⋮\\\\\n\t 2 & Petrol    & 5 & Not fair &  78.0 & 54.00000 &  238.9000\\\\\n\t 2 & Diesel    & 4 & Not fair &  78.0 & 61.31000 &  299.5900\\\\\n\t 1 & Petrol    & 1 & Not fair &  58.9 & 54.20000 &  234.5000\\\\\n\t 3 & Petrol    & 4 & Fair     & 101.0 & 69.60000 & 1200.3400\\\\\n\t 5 & Biodiesel & 5 & Fair     & 101.0 & 70.00000 & 2500.0000\\\\\n\t 1 & Petrol    & 3 & Fair     & 103.0 & 61.00000 & 1700.0000\\\\\n\t 2 & Biodiesel & 4 & Fair     & 103.0 & 79.00000 & 1200.0000\\\\\n\t 2 & Diesel    & 2 & Fair     & 103.0 & 67.80000 & 1345.6000\\\\\n\t 1 & Petrol    & 1 & Not fair &  78.9 & 67.80000 &  567.8000\\\\\n\t 1 & Petrol    & 1 & Fair     & 103.0 & 68.00000 &  890.0000\\\\\n\t 1 & Petrol    & 2 & Not fair &  63.0 & 47.67000 &  999.0000\\\\\n\t 2 & Petrol    & 4 & Not fair &  58.0 & 68.23000 &  277.8900\\\\\n\t 1 & Petrol    & 1 & Fair     & 103.0 & 62.00000 &  170.0000\\\\\n\t 2 & Diesel    & 5 & Not fair &  69.0 & 62.00000 &  169.0000\\\\\n\t 2 & Petrol    & 2 & Fair     & 103.0 & 58.00000 &  189.0000\\\\\n\t 1 & Petrol    & 1 & Fair     & 103.0 & 69.00000 &  220.0000\\\\\n\t 1 & Petrol    & 1 & Not fair &  87.0 & 63.00000 &  167.0000\\\\\n\t 1 & Petrol    & 1 & Fair     &  65.0 & 58.00000 &  230.0000\\\\\n\t 2 & Petrol    & 1 & Not fair &  70.0 & 70.00000 &  150.0000\\\\\n\t 1 & Petrol    & 1 & Not fair &  72.3 & 63.45000 &  199.9000\\\\\n\t 1 & Petrol    & 1 & Not fair &  54.1 & 34.00000 &  189.0000\\\\\n\t 1 & Petrol    & 1 & Fair     &  60.0 & 40.00000 &  250.0000\\\\\n\t 2 & Petrol    & 1 & Not fair &  69.0 & 50.00000 &  222.0000\\\\\n\t 1 & Petrol    & 1 & Not fair &  67.0 & 45.00000 &  243.0000\\\\\n\t 2 & Petrol    & 1 & Not fair &  80.0 & 40.00000 &  200.0000\\\\\n\t 2 & Petrol    & 1 & Not fair &  80.0 & 72.00000 &  400.0000\\\\\n\t 2 & Diesel    & 2 & Not fair & 100.0 & 55.81343 &  433.7026\\\\\n\t 2 & Diesel    & 2 & Not fair &  60.0 & 56.65000 &  200.0000\\\\\n\t 2 & Petrol    & 3 & Not fair &  60.0 & 65.00000 &  300.0000\\\\\n\t 4 & Petrol    & 2 & Not fair &  75.0 & 65.00000 &  190.0000\\\\\n\\end{tabular}\n",
            "text/plain": [
              "    No_vechicles Fuel_type vehicle_consumption Current_petrol_price\n",
              "1   1            Petrol    1                   Not fair            \n",
              "2   3            Petrol    1                   Not fair            \n",
              "3   3            Petrol    1                   Not fair            \n",
              "4   2            Petrol    1                   Not fair            \n",
              "5   3            Petrol    2                   Not fair            \n",
              "6   1            Petrol    1                   Not fair            \n",
              "7   2            Petrol    1                   Fair                \n",
              "8   2            Petrol    2                   Not fair            \n",
              "9   3            Petrol    1                   Not fair            \n",
              "10  2            Petrol    1                   Not fair            \n",
              "11  1            Petrol    1                   Not fair            \n",
              "12  2            Petrol    1                   Not fair            \n",
              "13  5            Petrol    4                   Fair                \n",
              "14  3            Petrol    1                   Not fair            \n",
              "15  2            Petrol    1                   Not fair            \n",
              "16  3            Petrol    1                   Not fair            \n",
              "17  1            Gas       2                   Not fair            \n",
              "18  2            Petrol    1                   Not fair            \n",
              "19  1            Petrol    1                   Not fair            \n",
              "20  1            Petrol    1                   Not fair            \n",
              "21  2            Petrol    1                   Fair                \n",
              "22  1            Petrol    1                   Not fair            \n",
              "23  3            Diesel    3                   Fair                \n",
              "24  2            Petrol    1                   Not fair            \n",
              "25  2            Petrol    2                   Not fair            \n",
              "26  2            Petrol    1                   Not fair            \n",
              "27  2            Petrol    2                   Not fair            \n",
              "28  1            Petrol    1                   Not fair            \n",
              "29  1            Petrol    1                   Not fair            \n",
              "30  3            Petrol    4                   Not fair            \n",
              "⋮   ⋮            ⋮         ⋮                   ⋮                   \n",
              "81  2            Petrol    5                   Not fair            \n",
              "82  2            Diesel    4                   Not fair            \n",
              "83  1            Petrol    1                   Not fair            \n",
              "84  3            Petrol    4                   Fair                \n",
              "85  5            Biodiesel 5                   Fair                \n",
              "86  1            Petrol    3                   Fair                \n",
              "87  2            Biodiesel 4                   Fair                \n",
              "88  2            Diesel    2                   Fair                \n",
              "89  1            Petrol    1                   Not fair            \n",
              "90  1            Petrol    1                   Fair                \n",
              "91  1            Petrol    2                   Not fair            \n",
              "92  2            Petrol    4                   Not fair            \n",
              "93  1            Petrol    1                   Fair                \n",
              "94  2            Diesel    5                   Not fair            \n",
              "95  2            Petrol    2                   Fair                \n",
              "96  1            Petrol    1                   Fair                \n",
              "97  1            Petrol    1                   Not fair            \n",
              "98  1            Petrol    1                   Fair                \n",
              "99  2            Petrol    1                   Not fair            \n",
              "100 1            Petrol    1                   Not fair            \n",
              "101 1            Petrol    1                   Not fair            \n",
              "102 1            Petrol    1                   Fair                \n",
              "103 2            Petrol    1                   Not fair            \n",
              "104 1            Petrol    1                   Not fair            \n",
              "105 2            Petrol    1                   Not fair            \n",
              "106 2            Petrol    1                   Not fair            \n",
              "107 2            Diesel    2                   Not fair            \n",
              "108 2            Diesel    2                   Not fair            \n",
              "109 2            Petrol    3                   Not fair            \n",
              "110 4            Petrol    2                   Not fair            \n",
              "    Expected_price PP_before_10_years PPP_after_10.years\n",
              "1    70.00          50.00000           130.0000         \n",
              "2    60.00          40.00000           200.0000         \n",
              "3    90.00          55.00000           500.0000         \n",
              "4    90.00          70.00000           500.0000         \n",
              "5    89.00          60.00000           130.0000         \n",
              "6    82.00          60.00000           150.0000         \n",
              "7    90.00          40.00000           200.0000         \n",
              "8    50.00          50.00000          1000.0000         \n",
              "9    80.00          48.00000           130.0000         \n",
              "10   80.00          50.00000           200.0000         \n",
              "11   75.00          40.00000           200.0000         \n",
              "12   71.03          50.52000           485.3900         \n",
              "13   90.00          64.00000           150.0000         \n",
              "14   85.00          65.00000           250.0000         \n",
              "15   80.00          60.00000           500.0000         \n",
              "16   45.00          60.00000           200.0000         \n",
              "17   85.00          60.00000           433.7026         \n",
              "18   80.00          40.00000           200.0000         \n",
              "19   70.00          50.00000           200.0000         \n",
              "20   60.00          40.00000           433.7026         \n",
              "21  101.00          43.00000           300.0000         \n",
              "22   80.00          63.00000           250.0000         \n",
              "23      NA          55.81343           433.7026         \n",
              "24      NA          55.81343           433.7026         \n",
              "25   80.00          55.81343           200.0000         \n",
              "26   70.00          50.00000          1000.0000         \n",
              "27   80.00          60.00000           200.0000         \n",
              "28   80.00         200.00000           200.0000         \n",
              "29   85.00          65.00000           170.0000         \n",
              "30   90.00          75.00000           150.0000         \n",
              "⋮   ⋮              ⋮                  ⋮                 \n",
              "81   78.0          54.00000            238.9000         \n",
              "82   78.0          61.31000            299.5900         \n",
              "83   58.9          54.20000            234.5000         \n",
              "84  101.0          69.60000           1200.3400         \n",
              "85  101.0          70.00000           2500.0000         \n",
              "86  103.0          61.00000           1700.0000         \n",
              "87  103.0          79.00000           1200.0000         \n",
              "88  103.0          67.80000           1345.6000         \n",
              "89   78.9          67.80000            567.8000         \n",
              "90  103.0          68.00000            890.0000         \n",
              "91   63.0          47.67000            999.0000         \n",
              "92   58.0          68.23000            277.8900         \n",
              "93  103.0          62.00000            170.0000         \n",
              "94   69.0          62.00000            169.0000         \n",
              "95  103.0          58.00000            189.0000         \n",
              "96  103.0          69.00000            220.0000         \n",
              "97   87.0          63.00000            167.0000         \n",
              "98   65.0          58.00000            230.0000         \n",
              "99   70.0          70.00000            150.0000         \n",
              "100  72.3          63.45000            199.9000         \n",
              "101  54.1          34.00000            189.0000         \n",
              "102  60.0          40.00000            250.0000         \n",
              "103  69.0          50.00000            222.0000         \n",
              "104  67.0          45.00000            243.0000         \n",
              "105  80.0          40.00000            200.0000         \n",
              "106  80.0          72.00000            400.0000         \n",
              "107 100.0          55.81343            433.7026         \n",
              "108  60.0          56.65000            200.0000         \n",
              "109  60.0          65.00000            300.0000         \n",
              "110  75.0          65.00000            190.0000         "
            ]
          },
          "metadata": {}
        }
      ]
    },
    {
      "cell_type": "code",
      "source": [
        "for(i in 5:ncol(data)){data[is.na(data[,5]),5]<-mean(data[,5],na.rm = TRUE)}\n",
        "data\n",
        "#Mean of Expected value =77.33551"
      ],
      "metadata": {
        "colab": {
          "base_uri": "https://localhost:8080/",
          "height": 1000
        },
        "id": "OHnOSTLZdnql",
        "outputId": "7c1d106c-3c8c-43c4-9c48-58e346f122ed"
      },
      "execution_count": 27,
      "outputs": [
        {
          "output_type": "display_data",
          "data": {
            "text/html": [
              "<table class=\"dataframe\">\n",
              "<caption>A data.frame: 110 × 7</caption>\n",
              "<thead>\n",
              "\t<tr><th scope=col>No_vechicles</th><th scope=col>Fuel_type</th><th scope=col>vehicle_consumption</th><th scope=col>Current_petrol_price</th><th scope=col>Expected_price</th><th scope=col>PP_before_10_years</th><th scope=col>PPP_after_10.years</th></tr>\n",
              "\t<tr><th scope=col>&lt;dbl&gt;</th><th scope=col>&lt;chr&gt;</th><th scope=col>&lt;dbl&gt;</th><th scope=col>&lt;chr&gt;</th><th scope=col>&lt;dbl&gt;</th><th scope=col>&lt;dbl&gt;</th><th scope=col>&lt;dbl&gt;</th></tr>\n",
              "</thead>\n",
              "<tbody>\n",
              "\t<tr><td>1</td><td>Petrol</td><td>1</td><td>Not fair</td><td> 70.00000</td><td> 50.00000</td><td> 130.0000</td></tr>\n",
              "\t<tr><td>3</td><td>Petrol</td><td>1</td><td>Not fair</td><td> 60.00000</td><td> 40.00000</td><td> 200.0000</td></tr>\n",
              "\t<tr><td>3</td><td>Petrol</td><td>1</td><td>Not fair</td><td> 90.00000</td><td> 55.00000</td><td> 500.0000</td></tr>\n",
              "\t<tr><td>2</td><td>Petrol</td><td>1</td><td>Not fair</td><td> 90.00000</td><td> 70.00000</td><td> 500.0000</td></tr>\n",
              "\t<tr><td>3</td><td>Petrol</td><td>2</td><td>Not fair</td><td> 89.00000</td><td> 60.00000</td><td> 130.0000</td></tr>\n",
              "\t<tr><td>1</td><td>Petrol</td><td>1</td><td>Not fair</td><td> 82.00000</td><td> 60.00000</td><td> 150.0000</td></tr>\n",
              "\t<tr><td>2</td><td>Petrol</td><td>1</td><td>Fair    </td><td> 90.00000</td><td> 40.00000</td><td> 200.0000</td></tr>\n",
              "\t<tr><td>2</td><td>Petrol</td><td>2</td><td>Not fair</td><td> 50.00000</td><td> 50.00000</td><td>1000.0000</td></tr>\n",
              "\t<tr><td>3</td><td>Petrol</td><td>1</td><td>Not fair</td><td> 80.00000</td><td> 48.00000</td><td> 130.0000</td></tr>\n",
              "\t<tr><td>2</td><td>Petrol</td><td>1</td><td>Not fair</td><td> 80.00000</td><td> 50.00000</td><td> 200.0000</td></tr>\n",
              "\t<tr><td>1</td><td>Petrol</td><td>1</td><td>Not fair</td><td> 75.00000</td><td> 40.00000</td><td> 200.0000</td></tr>\n",
              "\t<tr><td>2</td><td>Petrol</td><td>1</td><td>Not fair</td><td> 71.03000</td><td> 50.52000</td><td> 485.3900</td></tr>\n",
              "\t<tr><td>5</td><td>Petrol</td><td>4</td><td>Fair    </td><td> 90.00000</td><td> 64.00000</td><td> 150.0000</td></tr>\n",
              "\t<tr><td>3</td><td>Petrol</td><td>1</td><td>Not fair</td><td> 85.00000</td><td> 65.00000</td><td> 250.0000</td></tr>\n",
              "\t<tr><td>2</td><td>Petrol</td><td>1</td><td>Not fair</td><td> 80.00000</td><td> 60.00000</td><td> 500.0000</td></tr>\n",
              "\t<tr><td>3</td><td>Petrol</td><td>1</td><td>Not fair</td><td> 45.00000</td><td> 60.00000</td><td> 200.0000</td></tr>\n",
              "\t<tr><td>1</td><td>Gas   </td><td>2</td><td>Not fair</td><td> 85.00000</td><td> 60.00000</td><td> 433.7026</td></tr>\n",
              "\t<tr><td>2</td><td>Petrol</td><td>1</td><td>Not fair</td><td> 80.00000</td><td> 40.00000</td><td> 200.0000</td></tr>\n",
              "\t<tr><td>1</td><td>Petrol</td><td>1</td><td>Not fair</td><td> 70.00000</td><td> 50.00000</td><td> 200.0000</td></tr>\n",
              "\t<tr><td>1</td><td>Petrol</td><td>1</td><td>Not fair</td><td> 60.00000</td><td> 40.00000</td><td> 433.7026</td></tr>\n",
              "\t<tr><td>2</td><td>Petrol</td><td>1</td><td>Fair    </td><td>101.00000</td><td> 43.00000</td><td> 300.0000</td></tr>\n",
              "\t<tr><td>1</td><td>Petrol</td><td>1</td><td>Not fair</td><td> 80.00000</td><td> 63.00000</td><td> 250.0000</td></tr>\n",
              "\t<tr><td>3</td><td>Diesel</td><td>3</td><td>Fair    </td><td> 77.33551</td><td> 55.81343</td><td> 433.7026</td></tr>\n",
              "\t<tr><td>2</td><td>Petrol</td><td>1</td><td>Not fair</td><td> 77.33551</td><td> 55.81343</td><td> 433.7026</td></tr>\n",
              "\t<tr><td>2</td><td>Petrol</td><td>2</td><td>Not fair</td><td> 80.00000</td><td> 55.81343</td><td> 200.0000</td></tr>\n",
              "\t<tr><td>2</td><td>Petrol</td><td>1</td><td>Not fair</td><td> 70.00000</td><td> 50.00000</td><td>1000.0000</td></tr>\n",
              "\t<tr><td>2</td><td>Petrol</td><td>2</td><td>Not fair</td><td> 80.00000</td><td> 60.00000</td><td> 200.0000</td></tr>\n",
              "\t<tr><td>1</td><td>Petrol</td><td>1</td><td>Not fair</td><td> 80.00000</td><td>200.00000</td><td> 200.0000</td></tr>\n",
              "\t<tr><td>1</td><td>Petrol</td><td>1</td><td>Not fair</td><td> 85.00000</td><td> 65.00000</td><td> 170.0000</td></tr>\n",
              "\t<tr><td>3</td><td>Petrol</td><td>4</td><td>Not fair</td><td> 90.00000</td><td> 75.00000</td><td> 150.0000</td></tr>\n",
              "\t<tr><td>⋮</td><td>⋮</td><td>⋮</td><td>⋮</td><td>⋮</td><td>⋮</td><td>⋮</td></tr>\n",
              "\t<tr><td>2</td><td>Petrol   </td><td>5</td><td>Not fair</td><td> 78.0</td><td>54.00000</td><td> 238.9000</td></tr>\n",
              "\t<tr><td>2</td><td>Diesel   </td><td>4</td><td>Not fair</td><td> 78.0</td><td>61.31000</td><td> 299.5900</td></tr>\n",
              "\t<tr><td>1</td><td>Petrol   </td><td>1</td><td>Not fair</td><td> 58.9</td><td>54.20000</td><td> 234.5000</td></tr>\n",
              "\t<tr><td>3</td><td>Petrol   </td><td>4</td><td>Fair    </td><td>101.0</td><td>69.60000</td><td>1200.3400</td></tr>\n",
              "\t<tr><td>5</td><td>Biodiesel</td><td>5</td><td>Fair    </td><td>101.0</td><td>70.00000</td><td>2500.0000</td></tr>\n",
              "\t<tr><td>1</td><td>Petrol   </td><td>3</td><td>Fair    </td><td>103.0</td><td>61.00000</td><td>1700.0000</td></tr>\n",
              "\t<tr><td>2</td><td>Biodiesel</td><td>4</td><td>Fair    </td><td>103.0</td><td>79.00000</td><td>1200.0000</td></tr>\n",
              "\t<tr><td>2</td><td>Diesel   </td><td>2</td><td>Fair    </td><td>103.0</td><td>67.80000</td><td>1345.6000</td></tr>\n",
              "\t<tr><td>1</td><td>Petrol   </td><td>1</td><td>Not fair</td><td> 78.9</td><td>67.80000</td><td> 567.8000</td></tr>\n",
              "\t<tr><td>1</td><td>Petrol   </td><td>1</td><td>Fair    </td><td>103.0</td><td>68.00000</td><td> 890.0000</td></tr>\n",
              "\t<tr><td>1</td><td>Petrol   </td><td>2</td><td>Not fair</td><td> 63.0</td><td>47.67000</td><td> 999.0000</td></tr>\n",
              "\t<tr><td>2</td><td>Petrol   </td><td>4</td><td>Not fair</td><td> 58.0</td><td>68.23000</td><td> 277.8900</td></tr>\n",
              "\t<tr><td>1</td><td>Petrol   </td><td>1</td><td>Fair    </td><td>103.0</td><td>62.00000</td><td> 170.0000</td></tr>\n",
              "\t<tr><td>2</td><td>Diesel   </td><td>5</td><td>Not fair</td><td> 69.0</td><td>62.00000</td><td> 169.0000</td></tr>\n",
              "\t<tr><td>2</td><td>Petrol   </td><td>2</td><td>Fair    </td><td>103.0</td><td>58.00000</td><td> 189.0000</td></tr>\n",
              "\t<tr><td>1</td><td>Petrol   </td><td>1</td><td>Fair    </td><td>103.0</td><td>69.00000</td><td> 220.0000</td></tr>\n",
              "\t<tr><td>1</td><td>Petrol   </td><td>1</td><td>Not fair</td><td> 87.0</td><td>63.00000</td><td> 167.0000</td></tr>\n",
              "\t<tr><td>1</td><td>Petrol   </td><td>1</td><td>Fair    </td><td> 65.0</td><td>58.00000</td><td> 230.0000</td></tr>\n",
              "\t<tr><td>2</td><td>Petrol   </td><td>1</td><td>Not fair</td><td> 70.0</td><td>70.00000</td><td> 150.0000</td></tr>\n",
              "\t<tr><td>1</td><td>Petrol   </td><td>1</td><td>Not fair</td><td> 72.3</td><td>63.45000</td><td> 199.9000</td></tr>\n",
              "\t<tr><td>1</td><td>Petrol   </td><td>1</td><td>Not fair</td><td> 54.1</td><td>34.00000</td><td> 189.0000</td></tr>\n",
              "\t<tr><td>1</td><td>Petrol   </td><td>1</td><td>Fair    </td><td> 60.0</td><td>40.00000</td><td> 250.0000</td></tr>\n",
              "\t<tr><td>2</td><td>Petrol   </td><td>1</td><td>Not fair</td><td> 69.0</td><td>50.00000</td><td> 222.0000</td></tr>\n",
              "\t<tr><td>1</td><td>Petrol   </td><td>1</td><td>Not fair</td><td> 67.0</td><td>45.00000</td><td> 243.0000</td></tr>\n",
              "\t<tr><td>2</td><td>Petrol   </td><td>1</td><td>Not fair</td><td> 80.0</td><td>40.00000</td><td> 200.0000</td></tr>\n",
              "\t<tr><td>2</td><td>Petrol   </td><td>1</td><td>Not fair</td><td> 80.0</td><td>72.00000</td><td> 400.0000</td></tr>\n",
              "\t<tr><td>2</td><td>Diesel   </td><td>2</td><td>Not fair</td><td>100.0</td><td>55.81343</td><td> 433.7026</td></tr>\n",
              "\t<tr><td>2</td><td>Diesel   </td><td>2</td><td>Not fair</td><td> 60.0</td><td>56.65000</td><td> 200.0000</td></tr>\n",
              "\t<tr><td>2</td><td>Petrol   </td><td>3</td><td>Not fair</td><td> 60.0</td><td>65.00000</td><td> 300.0000</td></tr>\n",
              "\t<tr><td>4</td><td>Petrol   </td><td>2</td><td>Not fair</td><td> 75.0</td><td>65.00000</td><td> 190.0000</td></tr>\n",
              "</tbody>\n",
              "</table>\n"
            ],
            "text/markdown": "\nA data.frame: 110 × 7\n\n| No_vechicles &lt;dbl&gt; | Fuel_type &lt;chr&gt; | vehicle_consumption &lt;dbl&gt; | Current_petrol_price &lt;chr&gt; | Expected_price &lt;dbl&gt; | PP_before_10_years &lt;dbl&gt; | PPP_after_10.years &lt;dbl&gt; |\n|---|---|---|---|---|---|---|\n| 1 | Petrol | 1 | Not fair |  70.00000 |  50.00000 |  130.0000 |\n| 3 | Petrol | 1 | Not fair |  60.00000 |  40.00000 |  200.0000 |\n| 3 | Petrol | 1 | Not fair |  90.00000 |  55.00000 |  500.0000 |\n| 2 | Petrol | 1 | Not fair |  90.00000 |  70.00000 |  500.0000 |\n| 3 | Petrol | 2 | Not fair |  89.00000 |  60.00000 |  130.0000 |\n| 1 | Petrol | 1 | Not fair |  82.00000 |  60.00000 |  150.0000 |\n| 2 | Petrol | 1 | Fair     |  90.00000 |  40.00000 |  200.0000 |\n| 2 | Petrol | 2 | Not fair |  50.00000 |  50.00000 | 1000.0000 |\n| 3 | Petrol | 1 | Not fair |  80.00000 |  48.00000 |  130.0000 |\n| 2 | Petrol | 1 | Not fair |  80.00000 |  50.00000 |  200.0000 |\n| 1 | Petrol | 1 | Not fair |  75.00000 |  40.00000 |  200.0000 |\n| 2 | Petrol | 1 | Not fair |  71.03000 |  50.52000 |  485.3900 |\n| 5 | Petrol | 4 | Fair     |  90.00000 |  64.00000 |  150.0000 |\n| 3 | Petrol | 1 | Not fair |  85.00000 |  65.00000 |  250.0000 |\n| 2 | Petrol | 1 | Not fair |  80.00000 |  60.00000 |  500.0000 |\n| 3 | Petrol | 1 | Not fair |  45.00000 |  60.00000 |  200.0000 |\n| 1 | Gas    | 2 | Not fair |  85.00000 |  60.00000 |  433.7026 |\n| 2 | Petrol | 1 | Not fair |  80.00000 |  40.00000 |  200.0000 |\n| 1 | Petrol | 1 | Not fair |  70.00000 |  50.00000 |  200.0000 |\n| 1 | Petrol | 1 | Not fair |  60.00000 |  40.00000 |  433.7026 |\n| 2 | Petrol | 1 | Fair     | 101.00000 |  43.00000 |  300.0000 |\n| 1 | Petrol | 1 | Not fair |  80.00000 |  63.00000 |  250.0000 |\n| 3 | Diesel | 3 | Fair     |  77.33551 |  55.81343 |  433.7026 |\n| 2 | Petrol | 1 | Not fair |  77.33551 |  55.81343 |  433.7026 |\n| 2 | Petrol | 2 | Not fair |  80.00000 |  55.81343 |  200.0000 |\n| 2 | Petrol | 1 | Not fair |  70.00000 |  50.00000 | 1000.0000 |\n| 2 | Petrol | 2 | Not fair |  80.00000 |  60.00000 |  200.0000 |\n| 1 | Petrol | 1 | Not fair |  80.00000 | 200.00000 |  200.0000 |\n| 1 | Petrol | 1 | Not fair |  85.00000 |  65.00000 |  170.0000 |\n| 3 | Petrol | 4 | Not fair |  90.00000 |  75.00000 |  150.0000 |\n| ⋮ | ⋮ | ⋮ | ⋮ | ⋮ | ⋮ | ⋮ |\n| 2 | Petrol    | 5 | Not fair |  78.0 | 54.00000 |  238.9000 |\n| 2 | Diesel    | 4 | Not fair |  78.0 | 61.31000 |  299.5900 |\n| 1 | Petrol    | 1 | Not fair |  58.9 | 54.20000 |  234.5000 |\n| 3 | Petrol    | 4 | Fair     | 101.0 | 69.60000 | 1200.3400 |\n| 5 | Biodiesel | 5 | Fair     | 101.0 | 70.00000 | 2500.0000 |\n| 1 | Petrol    | 3 | Fair     | 103.0 | 61.00000 | 1700.0000 |\n| 2 | Biodiesel | 4 | Fair     | 103.0 | 79.00000 | 1200.0000 |\n| 2 | Diesel    | 2 | Fair     | 103.0 | 67.80000 | 1345.6000 |\n| 1 | Petrol    | 1 | Not fair |  78.9 | 67.80000 |  567.8000 |\n| 1 | Petrol    | 1 | Fair     | 103.0 | 68.00000 |  890.0000 |\n| 1 | Petrol    | 2 | Not fair |  63.0 | 47.67000 |  999.0000 |\n| 2 | Petrol    | 4 | Not fair |  58.0 | 68.23000 |  277.8900 |\n| 1 | Petrol    | 1 | Fair     | 103.0 | 62.00000 |  170.0000 |\n| 2 | Diesel    | 5 | Not fair |  69.0 | 62.00000 |  169.0000 |\n| 2 | Petrol    | 2 | Fair     | 103.0 | 58.00000 |  189.0000 |\n| 1 | Petrol    | 1 | Fair     | 103.0 | 69.00000 |  220.0000 |\n| 1 | Petrol    | 1 | Not fair |  87.0 | 63.00000 |  167.0000 |\n| 1 | Petrol    | 1 | Fair     |  65.0 | 58.00000 |  230.0000 |\n| 2 | Petrol    | 1 | Not fair |  70.0 | 70.00000 |  150.0000 |\n| 1 | Petrol    | 1 | Not fair |  72.3 | 63.45000 |  199.9000 |\n| 1 | Petrol    | 1 | Not fair |  54.1 | 34.00000 |  189.0000 |\n| 1 | Petrol    | 1 | Fair     |  60.0 | 40.00000 |  250.0000 |\n| 2 | Petrol    | 1 | Not fair |  69.0 | 50.00000 |  222.0000 |\n| 1 | Petrol    | 1 | Not fair |  67.0 | 45.00000 |  243.0000 |\n| 2 | Petrol    | 1 | Not fair |  80.0 | 40.00000 |  200.0000 |\n| 2 | Petrol    | 1 | Not fair |  80.0 | 72.00000 |  400.0000 |\n| 2 | Diesel    | 2 | Not fair | 100.0 | 55.81343 |  433.7026 |\n| 2 | Diesel    | 2 | Not fair |  60.0 | 56.65000 |  200.0000 |\n| 2 | Petrol    | 3 | Not fair |  60.0 | 65.00000 |  300.0000 |\n| 4 | Petrol    | 2 | Not fair |  75.0 | 65.00000 |  190.0000 |\n\n",
            "text/latex": "A data.frame: 110 × 7\n\\begin{tabular}{lllllll}\n No\\_vechicles & Fuel\\_type & vehicle\\_consumption & Current\\_petrol\\_price & Expected\\_price & PP\\_before\\_10\\_years & PPP\\_after\\_10.years\\\\\n <dbl> & <chr> & <dbl> & <chr> & <dbl> & <dbl> & <dbl>\\\\\n\\hline\n\t 1 & Petrol & 1 & Not fair &  70.00000 &  50.00000 &  130.0000\\\\\n\t 3 & Petrol & 1 & Not fair &  60.00000 &  40.00000 &  200.0000\\\\\n\t 3 & Petrol & 1 & Not fair &  90.00000 &  55.00000 &  500.0000\\\\\n\t 2 & Petrol & 1 & Not fair &  90.00000 &  70.00000 &  500.0000\\\\\n\t 3 & Petrol & 2 & Not fair &  89.00000 &  60.00000 &  130.0000\\\\\n\t 1 & Petrol & 1 & Not fair &  82.00000 &  60.00000 &  150.0000\\\\\n\t 2 & Petrol & 1 & Fair     &  90.00000 &  40.00000 &  200.0000\\\\\n\t 2 & Petrol & 2 & Not fair &  50.00000 &  50.00000 & 1000.0000\\\\\n\t 3 & Petrol & 1 & Not fair &  80.00000 &  48.00000 &  130.0000\\\\\n\t 2 & Petrol & 1 & Not fair &  80.00000 &  50.00000 &  200.0000\\\\\n\t 1 & Petrol & 1 & Not fair &  75.00000 &  40.00000 &  200.0000\\\\\n\t 2 & Petrol & 1 & Not fair &  71.03000 &  50.52000 &  485.3900\\\\\n\t 5 & Petrol & 4 & Fair     &  90.00000 &  64.00000 &  150.0000\\\\\n\t 3 & Petrol & 1 & Not fair &  85.00000 &  65.00000 &  250.0000\\\\\n\t 2 & Petrol & 1 & Not fair &  80.00000 &  60.00000 &  500.0000\\\\\n\t 3 & Petrol & 1 & Not fair &  45.00000 &  60.00000 &  200.0000\\\\\n\t 1 & Gas    & 2 & Not fair &  85.00000 &  60.00000 &  433.7026\\\\\n\t 2 & Petrol & 1 & Not fair &  80.00000 &  40.00000 &  200.0000\\\\\n\t 1 & Petrol & 1 & Not fair &  70.00000 &  50.00000 &  200.0000\\\\\n\t 1 & Petrol & 1 & Not fair &  60.00000 &  40.00000 &  433.7026\\\\\n\t 2 & Petrol & 1 & Fair     & 101.00000 &  43.00000 &  300.0000\\\\\n\t 1 & Petrol & 1 & Not fair &  80.00000 &  63.00000 &  250.0000\\\\\n\t 3 & Diesel & 3 & Fair     &  77.33551 &  55.81343 &  433.7026\\\\\n\t 2 & Petrol & 1 & Not fair &  77.33551 &  55.81343 &  433.7026\\\\\n\t 2 & Petrol & 2 & Not fair &  80.00000 &  55.81343 &  200.0000\\\\\n\t 2 & Petrol & 1 & Not fair &  70.00000 &  50.00000 & 1000.0000\\\\\n\t 2 & Petrol & 2 & Not fair &  80.00000 &  60.00000 &  200.0000\\\\\n\t 1 & Petrol & 1 & Not fair &  80.00000 & 200.00000 &  200.0000\\\\\n\t 1 & Petrol & 1 & Not fair &  85.00000 &  65.00000 &  170.0000\\\\\n\t 3 & Petrol & 4 & Not fair &  90.00000 &  75.00000 &  150.0000\\\\\n\t ⋮ & ⋮ & ⋮ & ⋮ & ⋮ & ⋮ & ⋮\\\\\n\t 2 & Petrol    & 5 & Not fair &  78.0 & 54.00000 &  238.9000\\\\\n\t 2 & Diesel    & 4 & Not fair &  78.0 & 61.31000 &  299.5900\\\\\n\t 1 & Petrol    & 1 & Not fair &  58.9 & 54.20000 &  234.5000\\\\\n\t 3 & Petrol    & 4 & Fair     & 101.0 & 69.60000 & 1200.3400\\\\\n\t 5 & Biodiesel & 5 & Fair     & 101.0 & 70.00000 & 2500.0000\\\\\n\t 1 & Petrol    & 3 & Fair     & 103.0 & 61.00000 & 1700.0000\\\\\n\t 2 & Biodiesel & 4 & Fair     & 103.0 & 79.00000 & 1200.0000\\\\\n\t 2 & Diesel    & 2 & Fair     & 103.0 & 67.80000 & 1345.6000\\\\\n\t 1 & Petrol    & 1 & Not fair &  78.9 & 67.80000 &  567.8000\\\\\n\t 1 & Petrol    & 1 & Fair     & 103.0 & 68.00000 &  890.0000\\\\\n\t 1 & Petrol    & 2 & Not fair &  63.0 & 47.67000 &  999.0000\\\\\n\t 2 & Petrol    & 4 & Not fair &  58.0 & 68.23000 &  277.8900\\\\\n\t 1 & Petrol    & 1 & Fair     & 103.0 & 62.00000 &  170.0000\\\\\n\t 2 & Diesel    & 5 & Not fair &  69.0 & 62.00000 &  169.0000\\\\\n\t 2 & Petrol    & 2 & Fair     & 103.0 & 58.00000 &  189.0000\\\\\n\t 1 & Petrol    & 1 & Fair     & 103.0 & 69.00000 &  220.0000\\\\\n\t 1 & Petrol    & 1 & Not fair &  87.0 & 63.00000 &  167.0000\\\\\n\t 1 & Petrol    & 1 & Fair     &  65.0 & 58.00000 &  230.0000\\\\\n\t 2 & Petrol    & 1 & Not fair &  70.0 & 70.00000 &  150.0000\\\\\n\t 1 & Petrol    & 1 & Not fair &  72.3 & 63.45000 &  199.9000\\\\\n\t 1 & Petrol    & 1 & Not fair &  54.1 & 34.00000 &  189.0000\\\\\n\t 1 & Petrol    & 1 & Fair     &  60.0 & 40.00000 &  250.0000\\\\\n\t 2 & Petrol    & 1 & Not fair &  69.0 & 50.00000 &  222.0000\\\\\n\t 1 & Petrol    & 1 & Not fair &  67.0 & 45.00000 &  243.0000\\\\\n\t 2 & Petrol    & 1 & Not fair &  80.0 & 40.00000 &  200.0000\\\\\n\t 2 & Petrol    & 1 & Not fair &  80.0 & 72.00000 &  400.0000\\\\\n\t 2 & Diesel    & 2 & Not fair & 100.0 & 55.81343 &  433.7026\\\\\n\t 2 & Diesel    & 2 & Not fair &  60.0 & 56.65000 &  200.0000\\\\\n\t 2 & Petrol    & 3 & Not fair &  60.0 & 65.00000 &  300.0000\\\\\n\t 4 & Petrol    & 2 & Not fair &  75.0 & 65.00000 &  190.0000\\\\\n\\end{tabular}\n",
            "text/plain": [
              "    No_vechicles Fuel_type vehicle_consumption Current_petrol_price\n",
              "1   1            Petrol    1                   Not fair            \n",
              "2   3            Petrol    1                   Not fair            \n",
              "3   3            Petrol    1                   Not fair            \n",
              "4   2            Petrol    1                   Not fair            \n",
              "5   3            Petrol    2                   Not fair            \n",
              "6   1            Petrol    1                   Not fair            \n",
              "7   2            Petrol    1                   Fair                \n",
              "8   2            Petrol    2                   Not fair            \n",
              "9   3            Petrol    1                   Not fair            \n",
              "10  2            Petrol    1                   Not fair            \n",
              "11  1            Petrol    1                   Not fair            \n",
              "12  2            Petrol    1                   Not fair            \n",
              "13  5            Petrol    4                   Fair                \n",
              "14  3            Petrol    1                   Not fair            \n",
              "15  2            Petrol    1                   Not fair            \n",
              "16  3            Petrol    1                   Not fair            \n",
              "17  1            Gas       2                   Not fair            \n",
              "18  2            Petrol    1                   Not fair            \n",
              "19  1            Petrol    1                   Not fair            \n",
              "20  1            Petrol    1                   Not fair            \n",
              "21  2            Petrol    1                   Fair                \n",
              "22  1            Petrol    1                   Not fair            \n",
              "23  3            Diesel    3                   Fair                \n",
              "24  2            Petrol    1                   Not fair            \n",
              "25  2            Petrol    2                   Not fair            \n",
              "26  2            Petrol    1                   Not fair            \n",
              "27  2            Petrol    2                   Not fair            \n",
              "28  1            Petrol    1                   Not fair            \n",
              "29  1            Petrol    1                   Not fair            \n",
              "30  3            Petrol    4                   Not fair            \n",
              "⋮   ⋮            ⋮         ⋮                   ⋮                   \n",
              "81  2            Petrol    5                   Not fair            \n",
              "82  2            Diesel    4                   Not fair            \n",
              "83  1            Petrol    1                   Not fair            \n",
              "84  3            Petrol    4                   Fair                \n",
              "85  5            Biodiesel 5                   Fair                \n",
              "86  1            Petrol    3                   Fair                \n",
              "87  2            Biodiesel 4                   Fair                \n",
              "88  2            Diesel    2                   Fair                \n",
              "89  1            Petrol    1                   Not fair            \n",
              "90  1            Petrol    1                   Fair                \n",
              "91  1            Petrol    2                   Not fair            \n",
              "92  2            Petrol    4                   Not fair            \n",
              "93  1            Petrol    1                   Fair                \n",
              "94  2            Diesel    5                   Not fair            \n",
              "95  2            Petrol    2                   Fair                \n",
              "96  1            Petrol    1                   Fair                \n",
              "97  1            Petrol    1                   Not fair            \n",
              "98  1            Petrol    1                   Fair                \n",
              "99  2            Petrol    1                   Not fair            \n",
              "100 1            Petrol    1                   Not fair            \n",
              "101 1            Petrol    1                   Not fair            \n",
              "102 1            Petrol    1                   Fair                \n",
              "103 2            Petrol    1                   Not fair            \n",
              "104 1            Petrol    1                   Not fair            \n",
              "105 2            Petrol    1                   Not fair            \n",
              "106 2            Petrol    1                   Not fair            \n",
              "107 2            Diesel    2                   Not fair            \n",
              "108 2            Diesel    2                   Not fair            \n",
              "109 2            Petrol    3                   Not fair            \n",
              "110 4            Petrol    2                   Not fair            \n",
              "    Expected_price PP_before_10_years PPP_after_10.years\n",
              "1    70.00000       50.00000           130.0000         \n",
              "2    60.00000       40.00000           200.0000         \n",
              "3    90.00000       55.00000           500.0000         \n",
              "4    90.00000       70.00000           500.0000         \n",
              "5    89.00000       60.00000           130.0000         \n",
              "6    82.00000       60.00000           150.0000         \n",
              "7    90.00000       40.00000           200.0000         \n",
              "8    50.00000       50.00000          1000.0000         \n",
              "9    80.00000       48.00000           130.0000         \n",
              "10   80.00000       50.00000           200.0000         \n",
              "11   75.00000       40.00000           200.0000         \n",
              "12   71.03000       50.52000           485.3900         \n",
              "13   90.00000       64.00000           150.0000         \n",
              "14   85.00000       65.00000           250.0000         \n",
              "15   80.00000       60.00000           500.0000         \n",
              "16   45.00000       60.00000           200.0000         \n",
              "17   85.00000       60.00000           433.7026         \n",
              "18   80.00000       40.00000           200.0000         \n",
              "19   70.00000       50.00000           200.0000         \n",
              "20   60.00000       40.00000           433.7026         \n",
              "21  101.00000       43.00000           300.0000         \n",
              "22   80.00000       63.00000           250.0000         \n",
              "23   77.33551       55.81343           433.7026         \n",
              "24   77.33551       55.81343           433.7026         \n",
              "25   80.00000       55.81343           200.0000         \n",
              "26   70.00000       50.00000          1000.0000         \n",
              "27   80.00000       60.00000           200.0000         \n",
              "28   80.00000      200.00000           200.0000         \n",
              "29   85.00000       65.00000           170.0000         \n",
              "30   90.00000       75.00000           150.0000         \n",
              "⋮   ⋮              ⋮                  ⋮                 \n",
              "81   78.0          54.00000            238.9000         \n",
              "82   78.0          61.31000            299.5900         \n",
              "83   58.9          54.20000            234.5000         \n",
              "84  101.0          69.60000           1200.3400         \n",
              "85  101.0          70.00000           2500.0000         \n",
              "86  103.0          61.00000           1700.0000         \n",
              "87  103.0          79.00000           1200.0000         \n",
              "88  103.0          67.80000           1345.6000         \n",
              "89   78.9          67.80000            567.8000         \n",
              "90  103.0          68.00000            890.0000         \n",
              "91   63.0          47.67000            999.0000         \n",
              "92   58.0          68.23000            277.8900         \n",
              "93  103.0          62.00000            170.0000         \n",
              "94   69.0          62.00000            169.0000         \n",
              "95  103.0          58.00000            189.0000         \n",
              "96  103.0          69.00000            220.0000         \n",
              "97   87.0          63.00000            167.0000         \n",
              "98   65.0          58.00000            230.0000         \n",
              "99   70.0          70.00000            150.0000         \n",
              "100  72.3          63.45000            199.9000         \n",
              "101  54.1          34.00000            189.0000         \n",
              "102  60.0          40.00000            250.0000         \n",
              "103  69.0          50.00000            222.0000         \n",
              "104  67.0          45.00000            243.0000         \n",
              "105  80.0          40.00000            200.0000         \n",
              "106  80.0          72.00000            400.0000         \n",
              "107 100.0          55.81343            433.7026         \n",
              "108  60.0          56.65000            200.0000         \n",
              "109  60.0          65.00000            300.0000         \n",
              "110  75.0          65.00000            190.0000         "
            ]
          },
          "metadata": {}
        }
      ]
    },
    {
      "cell_type": "code",
      "source": [
        "# Population\n",
        "Popu = dt\n",
        "mean(data$Expected_price)"
      ],
      "metadata": {
        "colab": {
          "base_uri": "https://localhost:8080/",
          "height": 34
        },
        "id": "tDoQuEWddnuB",
        "outputId": "7c0effe8-4b94-49ea-e846-2e7ca4a20175"
      },
      "execution_count": 28,
      "outputs": [
        {
          "output_type": "display_data",
          "data": {
            "text/html": [
              "77.3355140186916"
            ],
            "text/markdown": "77.3355140186916",
            "text/latex": "77.3355140186916",
            "text/plain": [
              "[1] 77.33551"
            ]
          },
          "metadata": {}
        }
      ]
    },
    {
      "cell_type": "code",
      "source": [
        "#Sample\n",
        "Sample = sample(data$Expected_price,30)\n",
        "print(median(Sample))"
      ],
      "metadata": {
        "colab": {
          "base_uri": "https://localhost:8080/"
        },
        "id": "NVcpEEfLf_mL",
        "outputId": "bea3fb20-bb12-4f0d-cc97-c9b6abdf1ba3"
      },
      "execution_count": 30,
      "outputs": [
        {
          "output_type": "stream",
          "name": "stdout",
          "text": [
            "[1] 75\n"
          ]
        }
      ]
    },
    {
      "cell_type": "code",
      "source": [
        "# Normal Distibution for sample ( Expected petrol price)\n",
        "shapiro.test(Sample)\n",
        "hist(Sample,xlab=\"Variable\",prob = TRUE)\n",
        "lines(density(Sample))"
      ],
      "metadata": {
        "colab": {
          "base_uri": "https://localhost:8080/",
          "height": 524
        },
        "id": "CjUdlz5jf_o2",
        "outputId": "14cc8109-b263-4f0a-f08c-3158155749fa"
      },
      "execution_count": 31,
      "outputs": [
        {
          "output_type": "display_data",
          "data": {
            "text/plain": [
              "\n",
              "\tShapiro-Wilk normality test\n",
              "\n",
              "data:  Sample\n",
              "W = 0.93687, p-value = 0.07495\n"
            ]
          },
          "metadata": {}
        },
        {
          "output_type": "display_data",
          "data": {
            "text/plain": [
              "Plot with title “Histogram of Sample”"
            ],
            "image/png": "[encoded data removed]"
          },
          "metadata": {
            "image/png": {
              "width": 420,
              "height": 420
            }
          }
        }
      ]
    },
    {
      "cell_type": "code",
      "source": [
        "# Normal Distibution for sample ( Expected petrol price before 10 years)\n",
        "Z = head(data$PP_before_10_years,30)\n",
        "shapiro.test(Z)\n",
        "hist(Z,xlab=\"Variable\",prob = TRUE)\n",
        "lines(density(Z))"
      ],
      "metadata": {
        "colab": {
          "base_uri": "https://localhost:8080/",
          "height": 524
        },
        "id": "C1luQxjaf_sP",
        "outputId": "22bfa0da-911b-437d-a863-199a905ff0df"
      },
      "execution_count": 32,
      "outputs": [
        {
          "output_type": "display_data",
          "data": {
            "text/plain": [
              "\n",
              "\tShapiro-Wilk normality test\n",
              "\n",
              "data:  Z\n",
              "W = 0.4794, p-value = 3.268e-09\n"
            ]
          },
          "metadata": {}
        },
        {
          "output_type": "display_data",
          "data": {
            "text/plain": [
              "Plot with title “Histogram of Z”"
            ],
            "image/png": "[encoded data removed]"
          },
          "metadata": {
            "image/png": {
              "width": 420,
              "height": 420
            }
          }
        }
      ]
    },
    {
      "cell_type": "code",
      "source": [
        "# Normal Distibution for sample ( Expected petrol price after 10 years)\n",
        "K = tail(data$PPP_after_10.years,30)\n",
        "shapiro.test(K)\n",
        "hist(K,xlab=\"Variable\",prob = TRUE)\n",
        "lines(density(K))"
      ],
      "metadata": {
        "colab": {
          "base_uri": "https://localhost:8080/",
          "height": 524
        },
        "id": "D_PUrtwuf_vR",
        "outputId": "c7a4980e-b24d-4693-f524-f6c4b7383b20"
      },
      "execution_count": 33,
      "outputs": [
        {
          "output_type": "display_data",
          "data": {
            "text/plain": [
              "\n",
              "\tShapiro-Wilk normality test\n",
              "\n",
              "data:  K\n",
              "W = 0.67006, p-value = 5.887e-07\n"
            ]
          },
          "metadata": {}
        },
        {
          "output_type": "display_data",
          "data": {
            "text/plain": [
              "Plot with title “Histogram of K”"
            ],
            "image/png": "[encoded data removed]"
          },
          "metadata": {
            "image/png": {
              "width": 420,
              "height": 420
            }
          }
        }
      ]
    },
    {
      "cell_type": "code",
      "source": [
        "# One sample Wilcoxon signed rank Test\n",
        "Sample = sample(data$Expected_price,30)\n",
        "median(Sample)\n",
        "wilcox.test(Sample,mu=80)"
      ],
      "metadata": {
        "colab": {
          "base_uri": "https://localhost:8080/",
          "height": 208
        },
        "id": "kNLK5J7Ff_yH",
        "outputId": "d3312488-8e31-4a2c-c116-79e60214a084"
      },
      "execution_count": 35,
      "outputs": [
        {
          "output_type": "display_data",
          "data": {
            "text/html": [
              "76.1677570093458"
            ],
            "text/markdown": "76.1677570093458",
            "text/latex": "76.1677570093458",
            "text/plain": [
              "[1] 76.16776"
            ]
          },
          "metadata": {}
        },
        {
          "output_type": "stream",
          "name": "stderr",
          "text": [
            "Warning message in wilcox.test.default(Sample, mu = 80):\n",
            "“cannot compute exact p-value with ties”\n",
            "Warning message in wilcox.test.default(Sample, mu = 80):\n",
            "“cannot compute exact p-value with zeroes”\n"
          ]
        },
        {
          "output_type": "display_data",
          "data": {
            "text/plain": [
              "\n",
              "\tWilcoxon signed rank test with continuity correction\n",
              "\n",
              "data:  Sample\n",
              "V = 136.5, p-value = 0.21\n",
              "alternative hypothesis: true location is not equal to 80\n"
            ]
          },
          "metadata": {}
        }
      ]
    },
    {
      "cell_type": "code",
      "source": [
        "# One sample Wilcoxon signed rank Test\n",
        "K = tail(data$PPP_after_10.years,30)\n",
        "median(K)\n",
        "wilcox.test(K,mu=240.95)"
      ],
      "metadata": {
        "colab": {
          "base_uri": "https://localhost:8080/",
          "height": 173
        },
        "id": "Euo2iDJQf_00",
        "outputId": "84cb62a2-a6c5-44be-e775-eed507622e66"
      },
      "execution_count": 36,
      "outputs": [
        {
          "output_type": "display_data",
          "data": {
            "text/html": [
              "240.95"
            ],
            "text/markdown": "240.95",
            "text/latex": "240.95",
            "text/plain": [
              "[1] 240.95"
            ]
          },
          "metadata": {}
        },
        {
          "output_type": "stream",
          "name": "stderr",
          "text": [
            "Warning message in wilcox.test.default(K, mu = 240.95):\n",
            "“cannot compute exact p-value with ties”\n"
          ]
        },
        {
          "output_type": "display_data",
          "data": {
            "text/plain": [
              "\n",
              "\tWilcoxon signed rank test with continuity correction\n",
              "\n",
              "data:  K\n",
              "V = 300, p-value = 0.1682\n",
              "alternative hypothesis: true location is not equal to 240.95\n"
            ]
          },
          "metadata": {}
        }
      ]
    },
    {
      "cell_type": "code",
      "source": [
        "#Paired sample Wilcoxon Test \n",
        "K = tail(data$PPP_after_10.years,30)\n",
        "Z=head(data$PP_before_10_years,30)\n",
        "wilcox.test(Z,K,paired = TRUE)"
      ],
      "metadata": {
        "colab": {
          "base_uri": "https://localhost:8080/",
          "height": 156
        },
        "id": "DgLrZh-ef_4u",
        "outputId": "061e6597-12b8-489f-d2bb-db9dcd810fd6"
      },
      "execution_count": 37,
      "outputs": [
        {
          "output_type": "stream",
          "name": "stderr",
          "text": [
            "Warning message in wilcox.test.default(Z, K, paired = TRUE):\n",
            "“cannot compute exact p-value with zeroes”\n"
          ]
        },
        {
          "output_type": "display_data",
          "data": {
            "text/plain": [
              "\n",
              "\tWilcoxon signed rank test with continuity correction\n",
              "\n",
              "data:  Z and K\n",
              "V = 0, p-value = 2.702e-06\n",
              "alternative hypothesis: true location shift is not equal to 0\n"
            ]
          },
          "metadata": {}
        }
      ]
    },
    {
      "cell_type": "code",
      "source": [
        "#Correlation\n",
        "W= data$No_vechicles\n",
        "C = data$vehicle_consumption\n",
        "cor(W,C,method=\"pearson\")"
      ],
      "metadata": {
        "colab": {
          "base_uri": "https://localhost:8080/",
          "height": 34
        },
        "id": "toYJNxUNf_7p",
        "outputId": "ead5d2b7-40b4-4f29-f3a8-4b9a69c603f3"
      },
      "execution_count": 38,
      "outputs": [
        {
          "output_type": "display_data",
          "data": {
            "text/html": [
              "0.474644699473661"
            ],
            "text/markdown": "0.474644699473661",
            "text/latex": "0.474644699473661",
            "text/plain": [
              "[1] 0.4746447"
            ]
          },
          "metadata": {}
        }
      ]
    },
    {
      "cell_type": "code",
      "source": [
        "#Correlation\n",
        "O= data$PP_before_10_years\n",
        "N = data$PPP_after_10.years\n",
        "cor(O,N,method=\"pearson\")"
      ],
      "metadata": {
        "colab": {
          "base_uri": "https://localhost:8080/",
          "height": 34
        },
        "id": "AQ5N36DZf__J",
        "outputId": "f1370d99-5888-4cc8-d2b4-b411a3d77e6e"
      },
      "execution_count": 39,
      "outputs": [
        {
          "output_type": "display_data",
          "data": {
            "text/html": [
              "-0.0495841659429969"
            ],
            "text/markdown": "-0.0495841659429969",
            "text/latex": "-0.0495841659429969",
            "text/plain": [
              "[1] -0.04958417"
            ]
          },
          "metadata": {}
        }
      ]
    },
    {
      "cell_type": "code",
      "source": [
        "#bar chart\n",
        "ggplot(data,aes(x=Current_petrol_price,fill=Current_petrol_price))+xlab(\"Current petrol price\")+ylab(\"Number of people\")+geom_bar(width = 0.5)"
      ],
      "metadata": {
        "colab": {
          "base_uri": "https://localhost:8080/",
          "height": 437
        },
        "id": "EU8iTO96ghZ5",
        "outputId": "6895ebd4-7814-4c3e-dffb-a36194dab30e"
      },
      "execution_count": 46,
      "outputs": [
        {
          "output_type": "display_data",
          "data": {
            "text/plain": [
              "plot without title"
            ],
            "image/png": "[encoded data removed]"
          },
          "metadata": {
            "image/png": {
              "width": 420,
              "height": 420
            }
          }
        }
      ]
    },
    {
      "cell_type": "code",
      "source": [
        "#pie chart\n",
        "library(RColorBrewer)\n",
        "value <- table(data$fuel_type)\n",
        "fuel <- c('Petrol','Gas','Diesel','Biodiesel')\n",
        "color <- brewer.pal(length(value),\"Set2\")\n",
        "pie(x=value,labels=fuel,col=color"
      ],
      "metadata": {
        "id": "i8kwAgN3pqk8"
      },
      "execution_count": null,
      "outputs": []
    }
  ]
}